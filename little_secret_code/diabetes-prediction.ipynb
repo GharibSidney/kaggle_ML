{
 "cells": [
  {
   "cell_type": "markdown",
   "id": "6ab81777",
   "metadata": {
    "_cell_guid": "b1076dfc-b9ad-4769-8c92-a6c4dae69d19",
    "_uuid": "8f2839f25d086af736a60e9eeb907d3b93b6e0e5",
    "papermill": {
     "duration": 0.012935,
     "end_time": "2022-10-11T06:49:59.746757",
     "exception": false,
     "start_time": "2022-10-11T06:49:59.733822",
     "status": "completed"
    },
    "tags": []
   },
   "source": [
    "The dataset originally has 330 features (columns) but based on diabetes disease research regarding factors influencing diabetes disease and other chronic health conditions the publisher of that dataset clean BRFSS data into a useable format for machine learning alogrithms.\n",
    "\n",
    "**Important risk factors for diabetes :**\n",
    "\n",
    "( blood pressure (high) , cholesterol (high) , smoking , diabetes , obesity , age , sex , race , diet , exercise , alcohol consumption , BMI , Household Income , Marital Status , Sleep , Time since last checkup , Education , Health care coverage , Mental Health )\n",
    "\n",
    "**About Columns :**\n",
    "Diabetes_binary : you have diabetes (0,1)\n",
    "\n",
    "HighBP : Adults who have been told they have high blood pressure by a doctor, nurse, or other health professional (0,1)\n",
    "\n",
    "HighChol : Have you EVER been told by a doctor, nurse or other health professional that your blood cholesterol is high? (0,1)\n",
    "\n",
    "CholCheck : Cholesterol check within past five years (0,1)\n",
    "\n",
    "BMI : Body Mass Index (BMI)\n",
    "\n",
    "Smoker : Have you smoked at least 100 cigarettes in your entire life? [Note: 5 packs = 100 cigarettes] (0,1)\n",
    "\n",
    "Stroke : (Ever told) you had a stroke. (0,1)\n",
    "\n",
    "HeartDiseaseorAttack : Respondents that have ever reported having coronary heart disease (CHD) or myocardial infarction (MI) (0,1)\n",
    "\n",
    "PhysActivity : Adults who reported doing physical activity or exercise during the past 30 days other than their regular job (0,1)\n",
    "\n",
    "Fruits : Consume Fruit 1 or more times per day (0,1)\n",
    "\n",
    "Veggies : Consume Vegetables 1 or more times per day (0,1)\n",
    "\n",
    "HvyAlcoholConsump : Heavy drinkers (adult men having more than 14 drinks per week and adult women having more than 7 drinks per week)(0,1)\n",
    "\n",
    "AnyHealthcare : Do you have any kind of health care coverage, including health insurance, prepaid plans such as HMOs, or government plans such as Medicare, or Indian Health Service? (0,1)\n",
    "\n",
    "NoDocbcCost : Was there a time in the past 12 months when you needed to see a doctor but could not because of cost? (0,1)\n",
    "\n",
    "GenHlth : Would you say that in general your health is: rate (1 ~ 5)\n",
    "\n",
    "MentHlth : Now thinking about your mental health, which includes stress, depression, and problems with emotions, for how many days during the past 30 days was your mental health not good? (0 ~ 30)\n",
    "\n",
    "PhysHlth : Now thinking about your physical health, which includes physical illness and injury, for how many days during the past 30 days was your physical health not good? (0 ~ 30)\n",
    "\n",
    "DiffWalk : Do you have serious difficulty walking or climbing stairs? (0,1)\n",
    "\n",
    "Sex : Indicate sex of respondent (0,1) (Female or Male)\n",
    "\n",
    "Age : Fourteen-level age category (1 ~ 14)\n",
    "\n",
    "Education : What is the highest grade or year of school you completed? (1 ~ 6)\n",
    "\n",
    "Income : Is your annual household income from all sources: (If respondent refuses at any income level, code \"Refused.\") (1 ~ 8)"
   ]
  },
  {
   "cell_type": "code",
   "execution_count": 1,
   "id": "f46d36c1",
   "metadata": {
    "execution": {
     "iopub.execute_input": "2022-10-11T06:49:59.771764Z",
     "iopub.status.busy": "2022-10-11T06:49:59.770963Z",
     "iopub.status.idle": "2022-10-11T06:50:03.573052Z",
     "shell.execute_reply": "2022-10-11T06:50:03.571853Z"
    },
    "papermill": {
     "duration": 3.818214,
     "end_time": "2022-10-11T06:50:03.576367",
     "exception": false,
     "start_time": "2022-10-11T06:49:59.758153",
     "status": "completed"
    },
    "tags": []
   },
   "outputs": [],
   "source": [
    "import pandas as pd \n",
    "import numpy as np \n",
    "import seaborn as sns \n",
    "import matplotlib.pyplot as plt \n",
    "from pandas_profiling import ProfileReport\n",
    "import math\n",
    "\n",
    "from statsmodels.stats.outliers_influence import variance_inflation_factor\n",
    "from statsmodels.tools.tools import add_constant  \n",
    "from statsmodels.stats.outliers_influence import variance_inflation_factor\n",
    "from statsmodels.tools.tools import add_constant  \n",
    "from sklearn.feature_selection import SelectKBest\n",
    "from sklearn.feature_selection import chi2\n",
    "from sklearn.datasets import make_classification\n",
    "from sklearn.feature_selection import SelectKBest\n",
    "from sklearn.feature_selection import f_classif\n",
    "from sklearn.model_selection import train_test_split\n",
    "from imblearn.over_sampling import SMOTE\n",
    "\n",
    "from sklearn.metrics import confusion_matrix,plot_roc_curve, classification_report\n",
    "from sklearn.metrics import mean_absolute_error , mean_absolute_percentage_error , mean_squared_error , accuracy_score\n",
    "from mlxtend.plotting import plot_confusion_matrix\n",
    "from sklearn.ensemble import RandomForestClassifier\n",
    "from sklearn.neighbors import KNeighborsClassifier\n",
    "from sklearn.tree import DecisionTreeClassifier\n",
    "from sklearn.linear_model import LogisticRegression\n",
    "%matplotlib inline\n",
    "\n",
    "import warnings\n",
    "warnings.filterwarnings(\"ignore\")"
   ]
  },
  {
   "cell_type": "code",
   "execution_count": 2,
   "id": "f5f5316d",
   "metadata": {
    "execution": {
     "iopub.execute_input": "2022-10-11T06:50:03.603393Z",
     "iopub.status.busy": "2022-10-11T06:50:03.602739Z",
     "iopub.status.idle": "2022-10-11T06:50:05.102032Z",
     "shell.execute_reply": "2022-10-11T06:50:05.100816Z"
    },
    "papermill": {
     "duration": 1.515271,
     "end_time": "2022-10-11T06:50:05.104946",
     "exception": false,
     "start_time": "2022-10-11T06:50:03.589675",
     "status": "completed"
    },
    "tags": []
   },
   "outputs": [],
   "source": [
    "Orginal_data = pd.read_csv(\"../input/diabetes-health-indicators-dataset/diabetes_binary_health_indicators_BRFSS2015.csv\" , sep = \",\" , encoding = 'utf-8')\n",
    "\n",
    "data = pd.read_csv(\"../input/diabetes-health-indicators-dataset/diabetes_binary_health_indicators_BRFSS2015.csv\" , sep = \",\" , encoding = 'utf-8')"
   ]
  },
  {
   "cell_type": "code",
   "execution_count": 3,
   "id": "85d94e2d",
   "metadata": {
    "execution": {
     "iopub.execute_input": "2022-10-11T06:50:05.131917Z",
     "iopub.status.busy": "2022-10-11T06:50:05.130933Z",
     "iopub.status.idle": "2022-10-11T06:50:05.141150Z",
     "shell.execute_reply": "2022-10-11T06:50:05.139955Z"
    },
    "papermill": {
     "duration": 0.027073,
     "end_time": "2022-10-11T06:50:05.143950",
     "exception": false,
     "start_time": "2022-10-11T06:50:05.116877",
     "status": "completed"
    },
    "tags": []
   },
   "outputs": [
    {
     "data": {
      "text/plain": [
       "(253680, 22)"
      ]
     },
     "execution_count": 3,
     "metadata": {},
     "output_type": "execute_result"
    }
   ],
   "source": [
    "data.shape "
   ]
  },
  {
   "cell_type": "code",
   "execution_count": 4,
   "id": "e94aa145",
   "metadata": {
    "execution": {
     "iopub.execute_input": "2022-10-11T06:50:05.169316Z",
     "iopub.status.busy": "2022-10-11T06:50:05.168882Z",
     "iopub.status.idle": "2022-10-11T06:50:05.211076Z",
     "shell.execute_reply": "2022-10-11T06:50:05.209892Z"
    },
    "papermill": {
     "duration": 0.057802,
     "end_time": "2022-10-11T06:50:05.213633",
     "exception": false,
     "start_time": "2022-10-11T06:50:05.155831",
     "status": "completed"
    },
    "tags": []
   },
   "outputs": [
    {
     "name": "stdout",
     "output_type": "stream",
     "text": [
      "<class 'pandas.core.frame.DataFrame'>\n",
      "RangeIndex: 253680 entries, 0 to 253679\n",
      "Data columns (total 22 columns):\n",
      " #   Column                Non-Null Count   Dtype  \n",
      "---  ------                --------------   -----  \n",
      " 0   Diabetes_binary       253680 non-null  float64\n",
      " 1   HighBP                253680 non-null  float64\n",
      " 2   HighChol              253680 non-null  float64\n",
      " 3   CholCheck             253680 non-null  float64\n",
      " 4   BMI                   253680 non-null  float64\n",
      " 5   Smoker                253680 non-null  float64\n",
      " 6   Stroke                253680 non-null  float64\n",
      " 7   HeartDiseaseorAttack  253680 non-null  float64\n",
      " 8   PhysActivity          253680 non-null  float64\n",
      " 9   Fruits                253680 non-null  float64\n",
      " 10  Veggies               253680 non-null  float64\n",
      " 11  HvyAlcoholConsump     253680 non-null  float64\n",
      " 12  AnyHealthcare         253680 non-null  float64\n",
      " 13  NoDocbcCost           253680 non-null  float64\n",
      " 14  GenHlth               253680 non-null  float64\n",
      " 15  MentHlth              253680 non-null  float64\n",
      " 16  PhysHlth              253680 non-null  float64\n",
      " 17  DiffWalk              253680 non-null  float64\n",
      " 18  Sex                   253680 non-null  float64\n",
      " 19  Age                   253680 non-null  float64\n",
      " 20  Education             253680 non-null  float64\n",
      " 21  Income                253680 non-null  float64\n",
      "dtypes: float64(22)\n",
      "memory usage: 42.6 MB\n"
     ]
    }
   ],
   "source": [
    "data.info()"
   ]
  },
  {
   "cell_type": "code",
   "execution_count": 5,
   "id": "df1412be",
   "metadata": {
    "execution": {
     "iopub.execute_input": "2022-10-11T06:50:05.239106Z",
     "iopub.status.busy": "2022-10-11T06:50:05.238694Z",
     "iopub.status.idle": "2022-10-11T06:50:05.450945Z",
     "shell.execute_reply": "2022-10-11T06:50:05.449263Z"
    },
    "papermill": {
     "duration": 0.228165,
     "end_time": "2022-10-11T06:50:05.453727",
     "exception": false,
     "start_time": "2022-10-11T06:50:05.225562",
     "status": "completed"
    },
    "tags": []
   },
   "outputs": [
    {
     "name": "stdout",
     "output_type": "stream",
     "text": [
      "<class 'pandas.core.frame.DataFrame'>\n",
      "RangeIndex: 253680 entries, 0 to 253679\n",
      "Data columns (total 22 columns):\n",
      " #   Column                Non-Null Count   Dtype\n",
      "---  ------                --------------   -----\n",
      " 0   Diabetes_binary       253680 non-null  int64\n",
      " 1   HighBP                253680 non-null  int64\n",
      " 2   HighChol              253680 non-null  int64\n",
      " 3   CholCheck             253680 non-null  int64\n",
      " 4   BMI                   253680 non-null  int64\n",
      " 5   Smoker                253680 non-null  int64\n",
      " 6   Stroke                253680 non-null  int64\n",
      " 7   HeartDiseaseorAttack  253680 non-null  int64\n",
      " 8   PhysActivity          253680 non-null  int64\n",
      " 9   Fruits                253680 non-null  int64\n",
      " 10  Veggies               253680 non-null  int64\n",
      " 11  HvyAlcoholConsump     253680 non-null  int64\n",
      " 12  AnyHealthcare         253680 non-null  int64\n",
      " 13  NoDocbcCost           253680 non-null  int64\n",
      " 14  GenHlth               253680 non-null  int64\n",
      " 15  MentHlth              253680 non-null  int64\n",
      " 16  PhysHlth              253680 non-null  int64\n",
      " 17  DiffWalk              253680 non-null  int64\n",
      " 18  Sex                   253680 non-null  int64\n",
      " 19  Age                   253680 non-null  int64\n",
      " 20  Education             253680 non-null  int64\n",
      " 21  Income                253680 non-null  int64\n",
      "dtypes: int64(22)\n",
      "memory usage: 42.6 MB\n"
     ]
    }
   ],
   "source": [
    "data[\"Diabetes_binary\"] = data[\"Diabetes_binary\"].astype(int)\n",
    "data[\"HighBP\"] = data[\"HighBP\"].astype(int)\n",
    "data[\"HighChol\"] = data[\"HighChol\"].astype(int)\n",
    "data[\"CholCheck\"] = data[\"CholCheck\"].astype(int)\n",
    "data[\"BMI\"] = data[\"BMI\"].astype(int)\n",
    "data[\"Smoker\"] = data[\"Smoker\"].astype(int)\n",
    "data[\"Stroke\"] = data[\"Stroke\"].astype(int)\n",
    "data[\"HeartDiseaseorAttack\"] = data[\"HeartDiseaseorAttack\"].astype(int)\n",
    "data[\"PhysActivity\"] = data[\"PhysActivity\"].astype(int)\n",
    "data[\"Fruits\"] = data[\"Fruits\"].astype(int) \n",
    "data[\"Veggies\"] = data[\"Veggies\"].astype(int)\n",
    "data[\"HvyAlcoholConsump\"] = data[\"HvyAlcoholConsump\"].astype(int)\n",
    "data[\"AnyHealthcare\"] = data[\"AnyHealthcare\"].astype(int)\n",
    "data[\"NoDocbcCost\"] = data[\"NoDocbcCost\"].astype(int)\n",
    "data[\"GenHlth\"] = data[\"GenHlth\"].astype(int)\n",
    "data[\"MentHlth\"] = data[\"MentHlth\"].astype(int)\n",
    "data[\"PhysHlth\"] = data[\"PhysHlth\"].astype(int)\n",
    "data[\"DiffWalk\"] = data[\"DiffWalk\"].astype(int)\n",
    "data[\"Sex\"] = data[\"Sex\"].astype(int)\n",
    "data[\"Age\"] = data[\"Age\"].astype(int)\n",
    "data[\"Education\"] = data[\"Education\"].astype(int)\n",
    "data[\"Income\"] =data[\"Income\"].astype(int)\n",
    "\n",
    "data.info()"
   ]
  },
  {
   "cell_type": "code",
   "execution_count": 6,
   "id": "a1ad6aca",
   "metadata": {
    "execution": {
     "iopub.execute_input": "2022-10-11T06:50:05.479465Z",
     "iopub.status.busy": "2022-10-11T06:50:05.479003Z",
     "iopub.status.idle": "2022-10-11T06:50:05.499310Z",
     "shell.execute_reply": "2022-10-11T06:50:05.498049Z"
    },
    "papermill": {
     "duration": 0.036291,
     "end_time": "2022-10-11T06:50:05.502045",
     "exception": false,
     "start_time": "2022-10-11T06:50:05.465754",
     "status": "completed"
    },
    "tags": []
   },
   "outputs": [
    {
     "data": {
      "text/plain": [
       "Diabetes_binary         0\n",
       "HighBP                  0\n",
       "HighChol                0\n",
       "CholCheck               0\n",
       "BMI                     0\n",
       "Smoker                  0\n",
       "Stroke                  0\n",
       "HeartDiseaseorAttack    0\n",
       "PhysActivity            0\n",
       "Fruits                  0\n",
       "Veggies                 0\n",
       "HvyAlcoholConsump       0\n",
       "AnyHealthcare           0\n",
       "NoDocbcCost             0\n",
       "GenHlth                 0\n",
       "MentHlth                0\n",
       "PhysHlth                0\n",
       "DiffWalk                0\n",
       "Sex                     0\n",
       "Age                     0\n",
       "Education               0\n",
       "Income                  0\n",
       "dtype: int64"
      ]
     },
     "execution_count": 6,
     "metadata": {},
     "output_type": "execute_result"
    }
   ],
   "source": [
    "data.isnull().sum()"
   ]
  },
  {
   "cell_type": "code",
   "execution_count": 7,
   "id": "125594d3",
   "metadata": {
    "execution": {
     "iopub.execute_input": "2022-10-11T06:50:05.528390Z",
     "iopub.status.busy": "2022-10-11T06:50:05.527718Z",
     "iopub.status.idle": "2022-10-11T06:50:05.602882Z",
     "shell.execute_reply": "2022-10-11T06:50:05.601623Z"
    },
    "papermill": {
     "duration": 0.091347,
     "end_time": "2022-10-11T06:50:05.605502",
     "exception": false,
     "start_time": "2022-10-11T06:50:05.514155",
     "status": "completed"
    },
    "tags": []
   },
   "outputs": [
    {
     "data": {
      "text/html": [
       "<div>\n",
       "<style scoped>\n",
       "    .dataframe tbody tr th:only-of-type {\n",
       "        vertical-align: middle;\n",
       "    }\n",
       "\n",
       "    .dataframe tbody tr th {\n",
       "        vertical-align: top;\n",
       "    }\n",
       "\n",
       "    .dataframe thead th {\n",
       "        text-align: right;\n",
       "    }\n",
       "</style>\n",
       "<table border=\"1\" class=\"dataframe\">\n",
       "  <thead>\n",
       "    <tr style=\"text-align: right;\">\n",
       "      <th></th>\n",
       "      <th>unique value count</th>\n",
       "    </tr>\n",
       "  </thead>\n",
       "  <tbody>\n",
       "    <tr>\n",
       "      <th>Diabetes_binary</th>\n",
       "      <td>2</td>\n",
       "    </tr>\n",
       "    <tr>\n",
       "      <th>HighBP</th>\n",
       "      <td>2</td>\n",
       "    </tr>\n",
       "    <tr>\n",
       "      <th>HighChol</th>\n",
       "      <td>2</td>\n",
       "    </tr>\n",
       "    <tr>\n",
       "      <th>CholCheck</th>\n",
       "      <td>2</td>\n",
       "    </tr>\n",
       "    <tr>\n",
       "      <th>BMI</th>\n",
       "      <td>84</td>\n",
       "    </tr>\n",
       "    <tr>\n",
       "      <th>Smoker</th>\n",
       "      <td>2</td>\n",
       "    </tr>\n",
       "    <tr>\n",
       "      <th>Stroke</th>\n",
       "      <td>2</td>\n",
       "    </tr>\n",
       "    <tr>\n",
       "      <th>HeartDiseaseorAttack</th>\n",
       "      <td>2</td>\n",
       "    </tr>\n",
       "    <tr>\n",
       "      <th>PhysActivity</th>\n",
       "      <td>2</td>\n",
       "    </tr>\n",
       "    <tr>\n",
       "      <th>Fruits</th>\n",
       "      <td>2</td>\n",
       "    </tr>\n",
       "    <tr>\n",
       "      <th>Veggies</th>\n",
       "      <td>2</td>\n",
       "    </tr>\n",
       "    <tr>\n",
       "      <th>HvyAlcoholConsump</th>\n",
       "      <td>2</td>\n",
       "    </tr>\n",
       "    <tr>\n",
       "      <th>AnyHealthcare</th>\n",
       "      <td>2</td>\n",
       "    </tr>\n",
       "    <tr>\n",
       "      <th>NoDocbcCost</th>\n",
       "      <td>2</td>\n",
       "    </tr>\n",
       "    <tr>\n",
       "      <th>GenHlth</th>\n",
       "      <td>5</td>\n",
       "    </tr>\n",
       "    <tr>\n",
       "      <th>MentHlth</th>\n",
       "      <td>31</td>\n",
       "    </tr>\n",
       "    <tr>\n",
       "      <th>PhysHlth</th>\n",
       "      <td>31</td>\n",
       "    </tr>\n",
       "    <tr>\n",
       "      <th>DiffWalk</th>\n",
       "      <td>2</td>\n",
       "    </tr>\n",
       "    <tr>\n",
       "      <th>Sex</th>\n",
       "      <td>2</td>\n",
       "    </tr>\n",
       "    <tr>\n",
       "      <th>Age</th>\n",
       "      <td>13</td>\n",
       "    </tr>\n",
       "    <tr>\n",
       "      <th>Education</th>\n",
       "      <td>6</td>\n",
       "    </tr>\n",
       "    <tr>\n",
       "      <th>Income</th>\n",
       "      <td>8</td>\n",
       "    </tr>\n",
       "  </tbody>\n",
       "</table>\n",
       "</div>"
      ],
      "text/plain": [
       "                      unique value count\n",
       "Diabetes_binary                        2\n",
       "HighBP                                 2\n",
       "HighChol                               2\n",
       "CholCheck                              2\n",
       "BMI                                   84\n",
       "Smoker                                 2\n",
       "Stroke                                 2\n",
       "HeartDiseaseorAttack                   2\n",
       "PhysActivity                           2\n",
       "Fruits                                 2\n",
       "Veggies                                2\n",
       "HvyAlcoholConsump                      2\n",
       "AnyHealthcare                          2\n",
       "NoDocbcCost                            2\n",
       "GenHlth                                5\n",
       "MentHlth                              31\n",
       "PhysHlth                              31\n",
       "DiffWalk                               2\n",
       "Sex                                    2\n",
       "Age                                   13\n",
       "Education                              6\n",
       "Income                                 8"
      ]
     },
     "execution_count": 7,
     "metadata": {},
     "output_type": "execute_result"
    }
   ],
   "source": [
    "unique_values = {}\n",
    "for col in data.columns:\n",
    "    unique_values[col] = data[col].value_counts().shape[0]\n",
    "\n",
    "pd.DataFrame(unique_values, index=['unique value count']).transpose()"
   ]
  },
  {
   "cell_type": "code",
   "execution_count": 8,
   "id": "bf2bda1c",
   "metadata": {
    "execution": {
     "iopub.execute_input": "2022-10-11T06:50:05.632084Z",
     "iopub.status.busy": "2022-10-11T06:50:05.631682Z",
     "iopub.status.idle": "2022-10-11T06:50:05.703411Z",
     "shell.execute_reply": "2022-10-11T06:50:05.702249Z"
    },
    "papermill": {
     "duration": 0.088837,
     "end_time": "2022-10-11T06:50:05.706788",
     "exception": false,
     "start_time": "2022-10-11T06:50:05.617951",
     "status": "completed"
    },
    "tags": []
   },
   "outputs": [
    {
     "name": "stdout",
     "output_type": "stream",
     "text": [
      "0    218334\n",
      "1     35346\n",
      "Name: Diabetes_binary, dtype: int64\n",
      "_____________________________________________________________________________\n",
      "0    144851\n",
      "1    108829\n",
      "Name: HighBP, dtype: int64\n",
      "_____________________________________________________________________________\n",
      "0    146089\n",
      "1    107591\n",
      "Name: HighChol, dtype: int64\n",
      "_____________________________________________________________________________\n",
      "1    244210\n",
      "0      9470\n",
      "Name: CholCheck, dtype: int64\n",
      "_____________________________________________________________________________\n",
      "27    24606\n",
      "26    20562\n",
      "24    19550\n",
      "25    17146\n",
      "28    16545\n",
      "      ...  \n",
      "85        1\n",
      "91        1\n",
      "86        1\n",
      "90        1\n",
      "78        1\n",
      "Name: BMI, Length: 84, dtype: int64\n",
      "_____________________________________________________________________________\n",
      "0    141257\n",
      "1    112423\n",
      "Name: Smoker, dtype: int64\n",
      "_____________________________________________________________________________\n",
      "0    243388\n",
      "1     10292\n",
      "Name: Stroke, dtype: int64\n",
      "_____________________________________________________________________________\n",
      "0    229787\n",
      "1     23893\n",
      "Name: HeartDiseaseorAttack, dtype: int64\n",
      "_____________________________________________________________________________\n",
      "1    191920\n",
      "0     61760\n",
      "Name: PhysActivity, dtype: int64\n",
      "_____________________________________________________________________________\n",
      "1    160898\n",
      "0     92782\n",
      "Name: Fruits, dtype: int64\n",
      "_____________________________________________________________________________\n",
      "1    205841\n",
      "0     47839\n",
      "Name: Veggies, dtype: int64\n",
      "_____________________________________________________________________________\n",
      "0    239424\n",
      "1     14256\n",
      "Name: HvyAlcoholConsump, dtype: int64\n",
      "_____________________________________________________________________________\n",
      "1    241263\n",
      "0     12417\n",
      "Name: AnyHealthcare, dtype: int64\n",
      "_____________________________________________________________________________\n",
      "0    232326\n",
      "1     21354\n",
      "Name: NoDocbcCost, dtype: int64\n",
      "_____________________________________________________________________________\n",
      "2    89084\n",
      "3    75646\n",
      "1    45299\n",
      "4    31570\n",
      "5    12081\n",
      "Name: GenHlth, dtype: int64\n",
      "_____________________________________________________________________________\n",
      "0     175680\n",
      "2      13054\n",
      "30     12088\n",
      "5       9030\n",
      "1       8538\n",
      "3       7381\n",
      "10      6373\n",
      "15      5505\n",
      "4       3789\n",
      "20      3364\n",
      "7       3100\n",
      "25      1188\n",
      "14      1167\n",
      "6        988\n",
      "8        639\n",
      "12       398\n",
      "28       327\n",
      "21       227\n",
      "29       158\n",
      "18        97\n",
      "9         91\n",
      "16        88\n",
      "27        79\n",
      "22        63\n",
      "17        54\n",
      "26        45\n",
      "11        41\n",
      "13        41\n",
      "23        38\n",
      "24        33\n",
      "19        16\n",
      "Name: MentHlth, dtype: int64\n",
      "_____________________________________________________________________________\n",
      "0     160052\n",
      "30     19400\n",
      "2      14764\n",
      "1      11388\n",
      "3       8495\n",
      "5       7622\n",
      "10      5595\n",
      "15      4916\n",
      "4       4542\n",
      "7       4538\n",
      "20      3273\n",
      "14      2587\n",
      "25      1336\n",
      "6       1330\n",
      "8        809\n",
      "21       663\n",
      "12       578\n",
      "28       522\n",
      "29       215\n",
      "9        179\n",
      "18       152\n",
      "16       112\n",
      "27        99\n",
      "17        96\n",
      "24        72\n",
      "22        70\n",
      "26        69\n",
      "13        68\n",
      "11        60\n",
      "23        56\n",
      "19        22\n",
      "Name: PhysHlth, dtype: int64\n",
      "_____________________________________________________________________________\n",
      "0    211005\n",
      "1     42675\n",
      "Name: DiffWalk, dtype: int64\n",
      "_____________________________________________________________________________\n",
      "0    141974\n",
      "1    111706\n",
      "Name: Sex, dtype: int64\n",
      "_____________________________________________________________________________\n",
      "9     33244\n",
      "10    32194\n",
      "8     30832\n",
      "7     26314\n",
      "11    23533\n",
      "6     19819\n",
      "13    17363\n",
      "5     16157\n",
      "12    15980\n",
      "4     13823\n",
      "3     11123\n",
      "2      7598\n",
      "1      5700\n",
      "Name: Age, dtype: int64\n",
      "_____________________________________________________________________________\n",
      "6    107325\n",
      "5     69910\n",
      "4     62750\n",
      "3      9478\n",
      "2      4043\n",
      "1       174\n",
      "Name: Education, dtype: int64\n",
      "_____________________________________________________________________________\n",
      "8    90385\n",
      "7    43219\n",
      "6    36470\n",
      "5    25883\n",
      "4    20135\n",
      "3    15994\n",
      "2    11783\n",
      "1     9811\n",
      "Name: Income, dtype: int64\n",
      "_____________________________________________________________________________\n"
     ]
    }
   ],
   "source": [
    "#Function to view the value counts for the whole data\n",
    "def v_counts(dataframe):\n",
    "    for i in dataframe :\n",
    "        print(dataframe[i].value_counts())\n",
    "        print(\"_____________________________________________________________________________\")\n",
    "\n",
    "v_counts(data)"
   ]
  },
  {
   "cell_type": "code",
   "execution_count": 9,
   "id": "e2f85e9c",
   "metadata": {
    "execution": {
     "iopub.execute_input": "2022-10-11T06:50:05.734350Z",
     "iopub.status.busy": "2022-10-11T06:50:05.733397Z",
     "iopub.status.idle": "2022-10-11T06:50:06.691997Z",
     "shell.execute_reply": "2022-10-11T06:50:06.690869Z"
    },
    "papermill": {
     "duration": 0.975035,
     "end_time": "2022-10-11T06:50:06.694482",
     "exception": false,
     "start_time": "2022-10-11T06:50:05.719447",
     "status": "completed"
    },
    "tags": []
   },
   "outputs": [
    {
     "data": {
      "image/png": "[encoded data removed]",
      "text/plain": [
       "<Figure size 1080x1080 with 7 Axes>"
      ]
     },
     "metadata": {
      "needs_background": "light"
     },
     "output_type": "display_data"
    }
   ],
   "source": [
    "plt.figure(figsize = (15,15))\n",
    "for i,col in enumerate(['BMI', 'GenHlth', 'MentHlth', 'PhysHlth', 'Age','Education', 'Income']):\n",
    "    plt.subplot(4,2,i+1)\n",
    "    sns.boxplot(x = col, data = data ,palette='Set2')\n",
    "plt.show()"
   ]
  },
  {
   "cell_type": "code",
   "execution_count": 10,
   "id": "a330dcd2",
   "metadata": {
    "execution": {
     "iopub.execute_input": "2022-10-11T06:50:06.722682Z",
     "iopub.status.busy": "2022-10-11T06:50:06.722234Z",
     "iopub.status.idle": "2022-10-11T06:50:06.823291Z",
     "shell.execute_reply": "2022-10-11T06:50:06.822121Z"
    },
    "papermill": {
     "duration": 0.118158,
     "end_time": "2022-10-11T06:50:06.825751",
     "exception": false,
     "start_time": "2022-10-11T06:50:06.707593",
     "status": "completed"
    },
    "tags": []
   },
   "outputs": [
    {
     "data": {
      "text/plain": [
       "24206"
      ]
     },
     "execution_count": 10,
     "metadata": {},
     "output_type": "execute_result"
    }
   ],
   "source": [
    "data.duplicated().sum()"
   ]
  },
  {
   "cell_type": "code",
   "execution_count": 11,
   "id": "e862cf94",
   "metadata": {
    "execution": {
     "iopub.execute_input": "2022-10-11T06:50:06.853951Z",
     "iopub.status.busy": "2022-10-11T06:50:06.853536Z",
     "iopub.status.idle": "2022-10-11T06:50:07.041160Z",
     "shell.execute_reply": "2022-10-11T06:50:07.039741Z"
    },
    "papermill": {
     "duration": 0.205419,
     "end_time": "2022-10-11T06:50:07.044018",
     "exception": false,
     "start_time": "2022-10-11T06:50:06.838599",
     "status": "completed"
    },
    "tags": []
   },
   "outputs": [
    {
     "name": "stdout",
     "output_type": "stream",
     "text": [
      "0\n",
      "(229474, 22)\n"
     ]
    }
   ],
   "source": [
    "data.drop_duplicates(inplace = True)\n",
    "print(data.duplicated().sum())\n",
    "\n",
    "print(data.shape)"
   ]
  },
  {
   "cell_type": "code",
   "execution_count": 12,
   "id": "99d50f25",
   "metadata": {
    "execution": {
     "iopub.execute_input": "2022-10-11T06:50:07.072031Z",
     "iopub.status.busy": "2022-10-11T06:50:07.071620Z",
     "iopub.status.idle": "2022-10-11T06:50:08.476384Z",
     "shell.execute_reply": "2022-10-11T06:50:08.475218Z"
    },
    "papermill": {
     "duration": 1.422001,
     "end_time": "2022-10-11T06:50:08.479144",
     "exception": false,
     "start_time": "2022-10-11T06:50:07.057143",
     "status": "completed"
    },
    "tags": []
   },
   "outputs": [],
   "source": [
    "data2 = data.copy() \n",
    "\n",
    "cols = ['HighBP', 'HighChol', 'CholCheck','Smoker',\n",
    "       'Stroke', 'HeartDiseaseorAttack', 'PhysActivity', 'Veggies',\n",
    "       'HvyAlcoholConsump', 'AnyHealthcare', 'NoDocbcCost', 'DiffWalk']\n",
    "\n",
    "\n",
    "# That help us to show the relation between features clearly\n",
    "\n",
    "data2.Age[data2['Age'] == 1] = '18 to 24'\n",
    "data2.Age[data2['Age'] == 2] = '25 to 29'\n",
    "data2.Age[data2['Age'] == 3] = '30 to 34'\n",
    "data2.Age[data2['Age'] == 4] = '35 to 39'\n",
    "data2.Age[data2['Age'] == 5] = '40 to 44'\n",
    "data2.Age[data2['Age'] == 6] = '45 to 49'\n",
    "data2.Age[data2['Age'] == 7] = '50 to 54'\n",
    "data2.Age[data2['Age'] == 8] = '55 to 59'\n",
    "data2.Age[data2['Age'] == 9] = '60 to 64'\n",
    "data2.Age[data2['Age'] == 10] = '65 to 69'\n",
    "data2.Age[data2['Age'] == 11] = '70 to 74'\n",
    "data2.Age[data2['Age'] == 12] = '75 to 79'\n",
    "data2.Age[data2['Age'] == 13] = '80 or older'\n",
    "\n",
    "data2.Diabetes_binary[data2['Diabetes_binary'] == 0] = 'No Diabetes'\n",
    "data2.Diabetes_binary[data2['Diabetes_binary'] == 1] = 'Diabetes'\n",
    "\n",
    "data2.HighBP[data2['HighBP'] == 0] = 'No High'\n",
    "data2.HighBP[data2['HighBP'] == 1] = 'High BP'\n",
    "\n",
    "data2.HighChol[data2['HighChol'] == 0] = 'No High Cholesterol'\n",
    "data2.HighChol[data2['HighChol'] == 1] = 'High Cholesterol'\n",
    "\n",
    "data2.CholCheck[data2['CholCheck'] == 0] = 'No Cholesterol Check in 5 Years'\n",
    "data2.CholCheck[data2['CholCheck'] == 1] = 'Cholesterol Check in 5 Years'\n",
    "\n",
    "data2.Smoker[data2['Smoker'] == 0] = 'No'\n",
    "data2.Smoker[data2['Smoker'] == 1] = 'Yes'\n",
    "\n",
    "data2.Stroke[data2['Stroke'] == 0] = 'No'\n",
    "data2.Stroke[data2['Stroke'] == 1] = 'Yes'\n",
    "\n",
    "data2.HeartDiseaseorAttack[data2['HeartDiseaseorAttack'] == 0] = 'No'\n",
    "data2.HeartDiseaseorAttack[data2['HeartDiseaseorAttack'] == 1] = 'Yes'\n",
    "\n",
    "data2.PhysActivity[data2['PhysActivity'] == 0] = 'No'\n",
    "data2.PhysActivity[data2['PhysActivity'] == 1] = 'Yes'\n",
    "\n",
    "data2.Fruits[data2['Fruits'] == 0] = 'No'\n",
    "data2.Fruits[data2['Fruits'] == 1] = 'Yes'\n",
    "\n",
    "data2.Veggies[data2['Veggies'] == 0] = 'No'\n",
    "data2.Veggies[data2['Veggies'] == 1] = 'Yes'\n",
    "\n",
    "data2.HvyAlcoholConsump[data2['HvyAlcoholConsump'] == 0] = 'No'\n",
    "data2.HvyAlcoholConsump[data2['HvyAlcoholConsump'] == 1] = 'Yes'\n",
    "\n",
    "data2.AnyHealthcare[data2['AnyHealthcare'] == 0] = 'No'\n",
    "data2.AnyHealthcare[data2['AnyHealthcare'] == 1] = 'Yes'\n",
    "\n",
    "data2.NoDocbcCost[data2['NoDocbcCost'] == 0] = 'No'\n",
    "data2.NoDocbcCost[data2['NoDocbcCost'] == 1] = 'Yes'\n",
    "\n",
    "data2.GenHlth[data2['GenHlth'] == 5] = 'Excellent'\n",
    "data2.GenHlth[data2['GenHlth'] == 4] = 'Very Good'\n",
    "data2.GenHlth[data2['GenHlth'] == 3] = 'Good'\n",
    "data2.GenHlth[data2['GenHlth'] == 2] = 'Fair'\n",
    "data2.GenHlth[data2['GenHlth'] == 1] = 'Poor'\n",
    "\n",
    "data2.DiffWalk[data2['DiffWalk'] == 0] = 'No'\n",
    "data2.DiffWalk[data2['DiffWalk'] == 1] = 'Yes'\n",
    "\n",
    "data2.Sex[data2['Sex'] == 0] = 'Female'\n",
    "data2.Sex[data2['Sex'] == 1] = 'Male'\n",
    "\n",
    "data2.Education[data2['Education'] == 1] = 'Never Attended School'\n",
    "data2.Education[data2['Education'] == 2] = 'Elementary'\n",
    "data2.Education[data2['Education'] == 3] = 'Junior High School'\n",
    "data2.Education[data2['Education'] == 4] = 'Senior High School'\n",
    "data2.Education[data2['Education'] == 5] = 'Undergraduate Degree'\n",
    "data2.Education[data2['Education'] == 6] = 'Magister'\n",
    "\n",
    "data2.Income[data2['Income'] == 1] = 'Less Than $10,000'\n",
    "data2.Income[data2['Income'] == 2] = 'Less Than $10,000'\n",
    "data2.Income[data2['Income'] == 3] = 'Less Than $10,000'\n",
    "data2.Income[data2['Income'] == 4] = 'Less Than $10,000'\n",
    "data2.Income[data2['Income'] == 5] = 'Less Than $35,000'\n",
    "data2.Income[data2['Income'] == 6] = 'Less Than $35,000'\n",
    "data2.Income[data2['Income'] == 7] = 'Less Than $35,000'\n",
    "data2.Income[data2['Income'] == 8] = '$75,000 or More'"
   ]
  },
  {
   "cell_type": "code",
   "execution_count": 13,
   "id": "f9aae992",
   "metadata": {
    "execution": {
     "iopub.execute_input": "2022-10-11T06:50:08.507307Z",
     "iopub.status.busy": "2022-10-11T06:50:08.506332Z",
     "iopub.status.idle": "2022-10-11T06:50:10.977515Z",
     "shell.execute_reply": "2022-10-11T06:50:10.976226Z"
    },
    "papermill": {
     "duration": 2.488007,
     "end_time": "2022-10-11T06:50:10.980140",
     "exception": false,
     "start_time": "2022-10-11T06:50:08.492133",
     "status": "completed"
    },
    "tags": []
   },
   "outputs": [
    {
     "data": {
      "image/png": "[encoded data removed]",
      "text/plain": [
       "<Figure size 1440x1440 with 12 Axes>"
      ]
     },
     "metadata": {
      "needs_background": "light"
     },
     "output_type": "display_data"
    }
   ],
   "source": [
    "def create_plot_pivot(data2, x_column):\n",
    "    \"\"\" Create a pivot table for satisfaction versus another rating for easy plotting. \"\"\"\n",
    "    _df_plot = data2.groupby([x_column, 'Diabetes_binary']).size() \\\n",
    "    .reset_index().pivot(columns='Diabetes_binary', index=x_column, values=0)\n",
    "    return _df_plot\n",
    "\n",
    "\n",
    "fig, ax = plt.subplots(3, 4, figsize=(20,20))\n",
    "axe = ax.ravel()\n",
    "c = len(cols)\n",
    "\n",
    "for i in range(c):\n",
    "    create_plot_pivot(data2, cols[i]).plot(kind='bar',stacked=True, ax=axe[i])\n",
    "    axe[i].set_xlabel(cols[i])\n",
    "    \n",
    "fig.show()"
   ]
  },
  {
   "cell_type": "code",
   "execution_count": 14,
   "id": "0b8ed426",
   "metadata": {
    "execution": {
     "iopub.execute_input": "2022-10-11T06:50:11.010619Z",
     "iopub.status.busy": "2022-10-11T06:50:11.010153Z",
     "iopub.status.idle": "2022-10-11T06:50:11.039954Z",
     "shell.execute_reply": "2022-10-11T06:50:11.038722Z"
    },
    "papermill": {
     "duration": 0.047803,
     "end_time": "2022-10-11T06:50:11.042428",
     "exception": false,
     "start_time": "2022-10-11T06:50:10.994625",
     "status": "completed"
    },
    "tags": []
   },
   "outputs": [
    {
     "data": {
      "text/plain": [
       "No Diabetes    194377\n",
       "Diabetes        35097\n",
       "Name: Diabetes_binary, dtype: int64"
      ]
     },
     "execution_count": 14,
     "metadata": {},
     "output_type": "execute_result"
    }
   ],
   "source": [
    "#average of column Daibetes_binary \n",
    "# 0 for non-Diabetic person and 1 for Diabetic person\n",
    "\n",
    "data2[\"Diabetes_binary\"].value_counts()"
   ]
  },
  {
   "cell_type": "code",
   "execution_count": 15,
   "id": "10e829e8",
   "metadata": {
    "execution": {
     "iopub.execute_input": "2022-10-11T06:50:11.072867Z",
     "iopub.status.busy": "2022-10-11T06:50:11.071874Z",
     "iopub.status.idle": "2022-10-11T06:50:11.198151Z",
     "shell.execute_reply": "2022-10-11T06:50:11.196735Z"
    },
    "papermill": {
     "duration": 0.145501,
     "end_time": "2022-10-11T06:50:11.202041",
     "exception": false,
     "start_time": "2022-10-11T06:50:11.056540",
     "status": "completed"
    },
    "tags": []
   },
   "outputs": [
    {
     "data": {
      "image/png": "[encoded data removed]",
      "text/plain": [
       "<Figure size 432x288 with 1 Axes>"
      ]
     },
     "metadata": {},
     "output_type": "display_data"
    }
   ],
   "source": [
    "labels=[\"non-Diabetic\",\"Diabetic\"]\n",
    "\n",
    "plt.pie(data2[\"Diabetes_binary\"].value_counts() , labels =labels ,autopct='%.02f' );"
   ]
  },
  {
   "cell_type": "code",
   "execution_count": 16,
   "id": "2480007f",
   "metadata": {
    "execution": {
     "iopub.execute_input": "2022-10-11T06:50:11.256420Z",
     "iopub.status.busy": "2022-10-11T06:50:11.255119Z",
     "iopub.status.idle": "2022-10-11T06:50:11.732277Z",
     "shell.execute_reply": "2022-10-11T06:50:11.730951Z"
    },
    "papermill": {
     "duration": 0.507178,
     "end_time": "2022-10-11T06:50:11.734883",
     "exception": false,
     "start_time": "2022-10-11T06:50:11.227705",
     "status": "completed"
    },
    "tags": []
   },
   "outputs": [
    {
     "data": {
      "image/png": "[encoded data removed]",
      "text/plain": [
       "<Figure size 1440x576 with 1 Axes>"
      ]
     },
     "metadata": {
      "needs_background": "light"
     },
     "output_type": "display_data"
    }
   ],
   "source": [
    "data.drop('Diabetes_binary', axis=1).corrwith(data.Diabetes_binary).plot(kind='bar', grid=True, figsize=(20, 8)\n",
    ", title=\"Correlation with Diabetes_binary\",color=\"Purple\");"
   ]
  },
  {
   "cell_type": "markdown",
   "id": "e5c0fd60",
   "metadata": {
    "papermill": {
     "duration": 0.014389,
     "end_time": "2022-10-11T06:50:11.764473",
     "exception": false,
     "start_time": "2022-10-11T06:50:11.750084",
     "status": "completed"
    },
    "tags": []
   },
   "source": [
    "**Diabetes_binary's relation with other columns Through bar Graph Result:**\n",
    "\n",
    "Fruits , AnyHealthcare , NoDocbccost and sex are least correlated with Diabetes_binary.\n",
    "\n",
    "HighBP , HighChol , BMI , smoker , stroke , HeartDiseaseorAttack , PhysActivity , Veggies , MentHlth , HvyAlcoholconsump , GenHlth , PhysHlth , Age , Education , Income and DiffWalk have a significant correlation with Diabetes_binary."
   ]
  },
  {
   "cell_type": "code",
   "execution_count": 17,
   "id": "d09902af",
   "metadata": {
    "execution": {
     "iopub.execute_input": "2022-10-11T06:50:11.795978Z",
     "iopub.status.busy": "2022-10-11T06:50:11.795567Z",
     "iopub.status.idle": "2022-10-11T06:50:22.229673Z",
     "shell.execute_reply": "2022-10-11T06:50:22.228457Z"
    },
    "papermill": {
     "duration": 10.456,
     "end_time": "2022-10-11T06:50:22.235139",
     "exception": false,
     "start_time": "2022-10-11T06:50:11.779139",
     "status": "completed"
    },
    "tags": []
   },
   "outputs": [
    {
     "name": "stdout",
     "output_type": "stream",
     "text": [
      "const                   116.856706\n",
      "Diabetes_binary           1.193120\n",
      "HighBP                    1.344502\n",
      "HighChol                  1.180932\n",
      "CholCheck                 1.033501\n",
      "BMI                       1.160280\n",
      "Smoker                    1.091872\n",
      "Stroke                    1.081612\n",
      "HeartDiseaseorAttack      1.175776\n",
      "PhysActivity              1.157396\n",
      "Fruits                    1.112540\n",
      "Veggies                   1.112397\n",
      "HvyAlcoholConsump         1.025418\n",
      "AnyHealthcare             1.113209\n",
      "NoDocbcCost               1.144200\n",
      "GenHlth                   1.821914\n",
      "MentHlth                  1.239497\n",
      "PhysHlth                  1.623288\n",
      "DiffWalk                  1.536636\n",
      "Sex                       1.075748\n",
      "Age                       1.354954\n",
      "Education                 1.326495\n",
      "Income                    1.505649\n",
      "dtype: float64\n"
     ]
    }
   ],
   "source": [
    "def calc_VIF(x):\n",
    "    vif= pd.DataFrame()\n",
    "    vif['variables']=x.columns\n",
    "    vif[\"VIF\"]=[variance_inflation_factor(x.values,i) for i in range(x.shape[1])]\n",
    "\n",
    "    return(vif)\n",
    "\n",
    "\n",
    "X = add_constant(Orginal_data)  \n",
    "ds=pd.Series([variance_inflation_factor(X.values, i) for i in range(X.shape[1])],index=X.columns)  \n",
    "print(ds)"
   ]
  },
  {
   "cell_type": "code",
   "execution_count": 18,
   "id": "dee331c1",
   "metadata": {
    "execution": {
     "iopub.execute_input": "2022-10-11T06:50:22.286826Z",
     "iopub.status.busy": "2022-10-11T06:50:22.286255Z",
     "iopub.status.idle": "2022-10-11T06:50:22.730688Z",
     "shell.execute_reply": "2022-10-11T06:50:22.729491Z"
    },
    "papermill": {
     "duration": 0.473625,
     "end_time": "2022-10-11T06:50:22.733915",
     "exception": false,
     "start_time": "2022-10-11T06:50:22.260290",
     "status": "completed"
    },
    "tags": []
   },
   "outputs": [
    {
     "data": {
      "text/html": [
       "<div>\n",
       "<style scoped>\n",
       "    .dataframe tbody tr th:only-of-type {\n",
       "        vertical-align: middle;\n",
       "    }\n",
       "\n",
       "    .dataframe tbody tr th {\n",
       "        vertical-align: top;\n",
       "    }\n",
       "\n",
       "    .dataframe thead th {\n",
       "        text-align: right;\n",
       "    }\n",
       "</style>\n",
       "<table border=\"1\" class=\"dataframe\">\n",
       "  <thead>\n",
       "    <tr style=\"text-align: right;\">\n",
       "      <th></th>\n",
       "      <th>Diabetes_binary</th>\n",
       "      <th>HighBP</th>\n",
       "      <th>HighChol</th>\n",
       "      <th>CholCheck</th>\n",
       "      <th>BMI</th>\n",
       "      <th>Smoker</th>\n",
       "      <th>Stroke</th>\n",
       "      <th>HeartDiseaseorAttack</th>\n",
       "      <th>PhysActivity</th>\n",
       "      <th>Fruits</th>\n",
       "      <th>...</th>\n",
       "      <th>AnyHealthcare</th>\n",
       "      <th>NoDocbcCost</th>\n",
       "      <th>GenHlth</th>\n",
       "      <th>MentHlth</th>\n",
       "      <th>PhysHlth</th>\n",
       "      <th>DiffWalk</th>\n",
       "      <th>Sex</th>\n",
       "      <th>Age</th>\n",
       "      <th>Education</th>\n",
       "      <th>Income</th>\n",
       "    </tr>\n",
       "  </thead>\n",
       "  <tbody>\n",
       "    <tr>\n",
       "      <th>Diabetes_binary</th>\n",
       "      <td>1.000000</td>\n",
       "      <td>0.263129</td>\n",
       "      <td>0.200276</td>\n",
       "      <td>0.064761</td>\n",
       "      <td>0.216843</td>\n",
       "      <td>0.060789</td>\n",
       "      <td>0.105816</td>\n",
       "      <td>0.177282</td>\n",
       "      <td>-0.118133</td>\n",
       "      <td>-0.040779</td>\n",
       "      <td>...</td>\n",
       "      <td>0.016255</td>\n",
       "      <td>0.031433</td>\n",
       "      <td>0.293569</td>\n",
       "      <td>0.069315</td>\n",
       "      <td>0.171337</td>\n",
       "      <td>0.218344</td>\n",
       "      <td>0.031430</td>\n",
       "      <td>0.177442</td>\n",
       "      <td>-0.124456</td>\n",
       "      <td>-0.163919</td>\n",
       "    </tr>\n",
       "    <tr>\n",
       "      <th>HighBP</th>\n",
       "      <td>0.263129</td>\n",
       "      <td>1.000000</td>\n",
       "      <td>0.298199</td>\n",
       "      <td>0.098508</td>\n",
       "      <td>0.213748</td>\n",
       "      <td>0.096991</td>\n",
       "      <td>0.129575</td>\n",
       "      <td>0.209361</td>\n",
       "      <td>-0.125267</td>\n",
       "      <td>-0.040555</td>\n",
       "      <td>...</td>\n",
       "      <td>0.038425</td>\n",
       "      <td>0.017358</td>\n",
       "      <td>0.300530</td>\n",
       "      <td>0.056456</td>\n",
       "      <td>0.161212</td>\n",
       "      <td>0.223618</td>\n",
       "      <td>0.052207</td>\n",
       "      <td>0.344452</td>\n",
       "      <td>-0.141358</td>\n",
       "      <td>-0.171235</td>\n",
       "    </tr>\n",
       "    <tr>\n",
       "      <th>HighChol</th>\n",
       "      <td>0.200276</td>\n",
       "      <td>0.298199</td>\n",
       "      <td>1.000000</td>\n",
       "      <td>0.085642</td>\n",
       "      <td>0.106722</td>\n",
       "      <td>0.091299</td>\n",
       "      <td>0.092620</td>\n",
       "      <td>0.180765</td>\n",
       "      <td>-0.078046</td>\n",
       "      <td>-0.040859</td>\n",
       "      <td>...</td>\n",
       "      <td>0.042230</td>\n",
       "      <td>0.013310</td>\n",
       "      <td>0.208426</td>\n",
       "      <td>0.062069</td>\n",
       "      <td>0.121751</td>\n",
       "      <td>0.144672</td>\n",
       "      <td>0.031205</td>\n",
       "      <td>0.272318</td>\n",
       "      <td>-0.070802</td>\n",
       "      <td>-0.085459</td>\n",
       "    </tr>\n",
       "    <tr>\n",
       "      <th>CholCheck</th>\n",
       "      <td>0.064761</td>\n",
       "      <td>0.098508</td>\n",
       "      <td>0.085642</td>\n",
       "      <td>1.000000</td>\n",
       "      <td>0.034495</td>\n",
       "      <td>-0.009929</td>\n",
       "      <td>0.024158</td>\n",
       "      <td>0.044206</td>\n",
       "      <td>0.004190</td>\n",
       "      <td>0.023849</td>\n",
       "      <td>...</td>\n",
       "      <td>0.117626</td>\n",
       "      <td>-0.058255</td>\n",
       "      <td>0.046589</td>\n",
       "      <td>-0.008366</td>\n",
       "      <td>0.031775</td>\n",
       "      <td>0.040585</td>\n",
       "      <td>-0.022115</td>\n",
       "      <td>0.090321</td>\n",
       "      <td>0.001510</td>\n",
       "      <td>0.014259</td>\n",
       "    </tr>\n",
       "    <tr>\n",
       "      <th>BMI</th>\n",
       "      <td>0.216843</td>\n",
       "      <td>0.213748</td>\n",
       "      <td>0.106722</td>\n",
       "      <td>0.034495</td>\n",
       "      <td>1.000000</td>\n",
       "      <td>0.013804</td>\n",
       "      <td>0.020153</td>\n",
       "      <td>0.052904</td>\n",
       "      <td>-0.147294</td>\n",
       "      <td>-0.087518</td>\n",
       "      <td>...</td>\n",
       "      <td>-0.018471</td>\n",
       "      <td>0.058206</td>\n",
       "      <td>0.239185</td>\n",
       "      <td>0.085310</td>\n",
       "      <td>0.121141</td>\n",
       "      <td>0.197078</td>\n",
       "      <td>0.042950</td>\n",
       "      <td>-0.036618</td>\n",
       "      <td>-0.103932</td>\n",
       "      <td>-0.100069</td>\n",
       "    </tr>\n",
       "    <tr>\n",
       "      <th>Smoker</th>\n",
       "      <td>0.060789</td>\n",
       "      <td>0.096991</td>\n",
       "      <td>0.091299</td>\n",
       "      <td>-0.009929</td>\n",
       "      <td>0.013804</td>\n",
       "      <td>1.000000</td>\n",
       "      <td>0.061173</td>\n",
       "      <td>0.114441</td>\n",
       "      <td>-0.087401</td>\n",
       "      <td>-0.077666</td>\n",
       "      <td>...</td>\n",
       "      <td>-0.023251</td>\n",
       "      <td>0.048946</td>\n",
       "      <td>0.163143</td>\n",
       "      <td>0.092196</td>\n",
       "      <td>0.116460</td>\n",
       "      <td>0.122463</td>\n",
       "      <td>0.093662</td>\n",
       "      <td>0.120641</td>\n",
       "      <td>-0.161955</td>\n",
       "      <td>-0.123937</td>\n",
       "    </tr>\n",
       "    <tr>\n",
       "      <th>Stroke</th>\n",
       "      <td>0.105816</td>\n",
       "      <td>0.129575</td>\n",
       "      <td>0.092620</td>\n",
       "      <td>0.024158</td>\n",
       "      <td>0.020153</td>\n",
       "      <td>0.061173</td>\n",
       "      <td>1.000000</td>\n",
       "      <td>0.203002</td>\n",
       "      <td>-0.069151</td>\n",
       "      <td>-0.013389</td>\n",
       "      <td>...</td>\n",
       "      <td>0.008776</td>\n",
       "      <td>0.034804</td>\n",
       "      <td>0.177942</td>\n",
       "      <td>0.070172</td>\n",
       "      <td>0.148944</td>\n",
       "      <td>0.176567</td>\n",
       "      <td>0.002978</td>\n",
       "      <td>0.126974</td>\n",
       "      <td>-0.076009</td>\n",
       "      <td>-0.128599</td>\n",
       "    </tr>\n",
       "    <tr>\n",
       "      <th>HeartDiseaseorAttack</th>\n",
       "      <td>0.177282</td>\n",
       "      <td>0.209361</td>\n",
       "      <td>0.180765</td>\n",
       "      <td>0.044206</td>\n",
       "      <td>0.052904</td>\n",
       "      <td>0.114441</td>\n",
       "      <td>0.203002</td>\n",
       "      <td>1.000000</td>\n",
       "      <td>-0.087299</td>\n",
       "      <td>-0.019790</td>\n",
       "      <td>...</td>\n",
       "      <td>0.018734</td>\n",
       "      <td>0.031000</td>\n",
       "      <td>0.258383</td>\n",
       "      <td>0.064621</td>\n",
       "      <td>0.181698</td>\n",
       "      <td>0.212709</td>\n",
       "      <td>0.086096</td>\n",
       "      <td>0.221618</td>\n",
       "      <td>-0.099600</td>\n",
       "      <td>-0.141011</td>\n",
       "    </tr>\n",
       "    <tr>\n",
       "      <th>PhysActivity</th>\n",
       "      <td>-0.118133</td>\n",
       "      <td>-0.125267</td>\n",
       "      <td>-0.078046</td>\n",
       "      <td>0.004190</td>\n",
       "      <td>-0.147294</td>\n",
       "      <td>-0.087401</td>\n",
       "      <td>-0.069151</td>\n",
       "      <td>-0.087299</td>\n",
       "      <td>1.000000</td>\n",
       "      <td>0.142756</td>\n",
       "      <td>...</td>\n",
       "      <td>0.035505</td>\n",
       "      <td>-0.061638</td>\n",
       "      <td>-0.266186</td>\n",
       "      <td>-0.125587</td>\n",
       "      <td>-0.219230</td>\n",
       "      <td>-0.253174</td>\n",
       "      <td>0.032482</td>\n",
       "      <td>-0.092511</td>\n",
       "      <td>0.199658</td>\n",
       "      <td>0.198539</td>\n",
       "    </tr>\n",
       "    <tr>\n",
       "      <th>Fruits</th>\n",
       "      <td>-0.040779</td>\n",
       "      <td>-0.040555</td>\n",
       "      <td>-0.040859</td>\n",
       "      <td>0.023849</td>\n",
       "      <td>-0.087518</td>\n",
       "      <td>-0.077666</td>\n",
       "      <td>-0.013389</td>\n",
       "      <td>-0.019790</td>\n",
       "      <td>0.142756</td>\n",
       "      <td>1.000000</td>\n",
       "      <td>...</td>\n",
       "      <td>0.031544</td>\n",
       "      <td>-0.044243</td>\n",
       "      <td>-0.103854</td>\n",
       "      <td>-0.068217</td>\n",
       "      <td>-0.044633</td>\n",
       "      <td>-0.048352</td>\n",
       "      <td>-0.091175</td>\n",
       "      <td>0.064547</td>\n",
       "      <td>0.110187</td>\n",
       "      <td>0.079929</td>\n",
       "    </tr>\n",
       "    <tr>\n",
       "      <th>Veggies</th>\n",
       "      <td>-0.056584</td>\n",
       "      <td>-0.061266</td>\n",
       "      <td>-0.039874</td>\n",
       "      <td>0.006121</td>\n",
       "      <td>-0.062275</td>\n",
       "      <td>-0.030678</td>\n",
       "      <td>-0.041124</td>\n",
       "      <td>-0.039167</td>\n",
       "      <td>0.153150</td>\n",
       "      <td>0.254342</td>\n",
       "      <td>...</td>\n",
       "      <td>0.029584</td>\n",
       "      <td>-0.032232</td>\n",
       "      <td>-0.123066</td>\n",
       "      <td>-0.058884</td>\n",
       "      <td>-0.064290</td>\n",
       "      <td>-0.080506</td>\n",
       "      <td>-0.064765</td>\n",
       "      <td>-0.009771</td>\n",
       "      <td>0.154329</td>\n",
       "      <td>0.151087</td>\n",
       "    </tr>\n",
       "    <tr>\n",
       "      <th>HvyAlcoholConsump</th>\n",
       "      <td>-0.057056</td>\n",
       "      <td>-0.003972</td>\n",
       "      <td>-0.011543</td>\n",
       "      <td>-0.023730</td>\n",
       "      <td>-0.048736</td>\n",
       "      <td>0.101619</td>\n",
       "      <td>-0.016950</td>\n",
       "      <td>-0.028991</td>\n",
       "      <td>0.012392</td>\n",
       "      <td>-0.035288</td>\n",
       "      <td>...</td>\n",
       "      <td>-0.010488</td>\n",
       "      <td>0.004684</td>\n",
       "      <td>-0.036724</td>\n",
       "      <td>0.024716</td>\n",
       "      <td>-0.026415</td>\n",
       "      <td>-0.037668</td>\n",
       "      <td>0.005740</td>\n",
       "      <td>-0.034578</td>\n",
       "      <td>0.023997</td>\n",
       "      <td>0.053619</td>\n",
       "    </tr>\n",
       "    <tr>\n",
       "      <th>AnyHealthcare</th>\n",
       "      <td>0.016255</td>\n",
       "      <td>0.038425</td>\n",
       "      <td>0.042230</td>\n",
       "      <td>0.117626</td>\n",
       "      <td>-0.018471</td>\n",
       "      <td>-0.023251</td>\n",
       "      <td>0.008776</td>\n",
       "      <td>0.018734</td>\n",
       "      <td>0.035505</td>\n",
       "      <td>0.031544</td>\n",
       "      <td>...</td>\n",
       "      <td>1.000000</td>\n",
       "      <td>-0.232532</td>\n",
       "      <td>-0.040817</td>\n",
       "      <td>-0.052707</td>\n",
       "      <td>-0.008276</td>\n",
       "      <td>0.007074</td>\n",
       "      <td>-0.019405</td>\n",
       "      <td>0.138046</td>\n",
       "      <td>0.122514</td>\n",
       "      <td>0.157999</td>\n",
       "    </tr>\n",
       "    <tr>\n",
       "      <th>NoDocbcCost</th>\n",
       "      <td>0.031433</td>\n",
       "      <td>0.017358</td>\n",
       "      <td>0.013310</td>\n",
       "      <td>-0.058255</td>\n",
       "      <td>0.058206</td>\n",
       "      <td>0.048946</td>\n",
       "      <td>0.034804</td>\n",
       "      <td>0.031000</td>\n",
       "      <td>-0.061638</td>\n",
       "      <td>-0.044243</td>\n",
       "      <td>...</td>\n",
       "      <td>-0.232532</td>\n",
       "      <td>1.000000</td>\n",
       "      <td>0.166397</td>\n",
       "      <td>0.192107</td>\n",
       "      <td>0.148998</td>\n",
       "      <td>0.118447</td>\n",
       "      <td>-0.044931</td>\n",
       "      <td>-0.119777</td>\n",
       "      <td>-0.100701</td>\n",
       "      <td>-0.203182</td>\n",
       "    </tr>\n",
       "    <tr>\n",
       "      <th>GenHlth</th>\n",
       "      <td>0.293569</td>\n",
       "      <td>0.300530</td>\n",
       "      <td>0.208426</td>\n",
       "      <td>0.046589</td>\n",
       "      <td>0.239185</td>\n",
       "      <td>0.163143</td>\n",
       "      <td>0.177942</td>\n",
       "      <td>0.258383</td>\n",
       "      <td>-0.266186</td>\n",
       "      <td>-0.103854</td>\n",
       "      <td>...</td>\n",
       "      <td>-0.040817</td>\n",
       "      <td>0.166397</td>\n",
       "      <td>1.000000</td>\n",
       "      <td>0.301674</td>\n",
       "      <td>0.524364</td>\n",
       "      <td>0.456920</td>\n",
       "      <td>-0.006091</td>\n",
       "      <td>0.152450</td>\n",
       "      <td>-0.284912</td>\n",
       "      <td>-0.370014</td>\n",
       "    </tr>\n",
       "    <tr>\n",
       "      <th>MentHlth</th>\n",
       "      <td>0.069315</td>\n",
       "      <td>0.056456</td>\n",
       "      <td>0.062069</td>\n",
       "      <td>-0.008366</td>\n",
       "      <td>0.085310</td>\n",
       "      <td>0.092196</td>\n",
       "      <td>0.070172</td>\n",
       "      <td>0.064621</td>\n",
       "      <td>-0.125587</td>\n",
       "      <td>-0.068217</td>\n",
       "      <td>...</td>\n",
       "      <td>-0.052707</td>\n",
       "      <td>0.192107</td>\n",
       "      <td>0.301674</td>\n",
       "      <td>1.000000</td>\n",
       "      <td>0.353619</td>\n",
       "      <td>0.233688</td>\n",
       "      <td>-0.080705</td>\n",
       "      <td>-0.092068</td>\n",
       "      <td>-0.101830</td>\n",
       "      <td>-0.209806</td>\n",
       "    </tr>\n",
       "    <tr>\n",
       "      <th>PhysHlth</th>\n",
       "      <td>0.171337</td>\n",
       "      <td>0.161212</td>\n",
       "      <td>0.121751</td>\n",
       "      <td>0.031775</td>\n",
       "      <td>0.121141</td>\n",
       "      <td>0.116460</td>\n",
       "      <td>0.148944</td>\n",
       "      <td>0.181698</td>\n",
       "      <td>-0.219230</td>\n",
       "      <td>-0.044633</td>\n",
       "      <td>...</td>\n",
       "      <td>-0.008276</td>\n",
       "      <td>0.148998</td>\n",
       "      <td>0.524364</td>\n",
       "      <td>0.353619</td>\n",
       "      <td>1.000000</td>\n",
       "      <td>0.478417</td>\n",
       "      <td>-0.043137</td>\n",
       "      <td>0.099130</td>\n",
       "      <td>-0.155093</td>\n",
       "      <td>-0.266799</td>\n",
       "    </tr>\n",
       "    <tr>\n",
       "      <th>DiffWalk</th>\n",
       "      <td>0.218344</td>\n",
       "      <td>0.223618</td>\n",
       "      <td>0.144672</td>\n",
       "      <td>0.040585</td>\n",
       "      <td>0.197078</td>\n",
       "      <td>0.122463</td>\n",
       "      <td>0.176567</td>\n",
       "      <td>0.212709</td>\n",
       "      <td>-0.253174</td>\n",
       "      <td>-0.048352</td>\n",
       "      <td>...</td>\n",
       "      <td>0.007074</td>\n",
       "      <td>0.118447</td>\n",
       "      <td>0.456920</td>\n",
       "      <td>0.233688</td>\n",
       "      <td>0.478417</td>\n",
       "      <td>1.000000</td>\n",
       "      <td>-0.070299</td>\n",
       "      <td>0.204450</td>\n",
       "      <td>-0.192642</td>\n",
       "      <td>-0.320124</td>\n",
       "    </tr>\n",
       "    <tr>\n",
       "      <th>Sex</th>\n",
       "      <td>0.031430</td>\n",
       "      <td>0.052207</td>\n",
       "      <td>0.031205</td>\n",
       "      <td>-0.022115</td>\n",
       "      <td>0.042950</td>\n",
       "      <td>0.093662</td>\n",
       "      <td>0.002978</td>\n",
       "      <td>0.086096</td>\n",
       "      <td>0.032482</td>\n",
       "      <td>-0.091175</td>\n",
       "      <td>...</td>\n",
       "      <td>-0.019405</td>\n",
       "      <td>-0.044931</td>\n",
       "      <td>-0.006091</td>\n",
       "      <td>-0.080705</td>\n",
       "      <td>-0.043137</td>\n",
       "      <td>-0.070299</td>\n",
       "      <td>1.000000</td>\n",
       "      <td>-0.027340</td>\n",
       "      <td>0.019480</td>\n",
       "      <td>0.127141</td>\n",
       "    </tr>\n",
       "    <tr>\n",
       "      <th>Age</th>\n",
       "      <td>0.177442</td>\n",
       "      <td>0.344452</td>\n",
       "      <td>0.272318</td>\n",
       "      <td>0.090321</td>\n",
       "      <td>-0.036618</td>\n",
       "      <td>0.120641</td>\n",
       "      <td>0.126974</td>\n",
       "      <td>0.221618</td>\n",
       "      <td>-0.092511</td>\n",
       "      <td>0.064547</td>\n",
       "      <td>...</td>\n",
       "      <td>0.138046</td>\n",
       "      <td>-0.119777</td>\n",
       "      <td>0.152450</td>\n",
       "      <td>-0.092068</td>\n",
       "      <td>0.099130</td>\n",
       "      <td>0.204450</td>\n",
       "      <td>-0.027340</td>\n",
       "      <td>1.000000</td>\n",
       "      <td>-0.101901</td>\n",
       "      <td>-0.127775</td>\n",
       "    </tr>\n",
       "    <tr>\n",
       "      <th>Education</th>\n",
       "      <td>-0.124456</td>\n",
       "      <td>-0.141358</td>\n",
       "      <td>-0.070802</td>\n",
       "      <td>0.001510</td>\n",
       "      <td>-0.103932</td>\n",
       "      <td>-0.161955</td>\n",
       "      <td>-0.076009</td>\n",
       "      <td>-0.099600</td>\n",
       "      <td>0.199658</td>\n",
       "      <td>0.110187</td>\n",
       "      <td>...</td>\n",
       "      <td>0.122514</td>\n",
       "      <td>-0.100701</td>\n",
       "      <td>-0.284912</td>\n",
       "      <td>-0.101830</td>\n",
       "      <td>-0.155093</td>\n",
       "      <td>-0.192642</td>\n",
       "      <td>0.019480</td>\n",
       "      <td>-0.101901</td>\n",
       "      <td>1.000000</td>\n",
       "      <td>0.449106</td>\n",
       "    </tr>\n",
       "    <tr>\n",
       "      <th>Income</th>\n",
       "      <td>-0.163919</td>\n",
       "      <td>-0.171235</td>\n",
       "      <td>-0.085459</td>\n",
       "      <td>0.014259</td>\n",
       "      <td>-0.100069</td>\n",
       "      <td>-0.123937</td>\n",
       "      <td>-0.128599</td>\n",
       "      <td>-0.141011</td>\n",
       "      <td>0.198539</td>\n",
       "      <td>0.079929</td>\n",
       "      <td>...</td>\n",
       "      <td>0.157999</td>\n",
       "      <td>-0.203182</td>\n",
       "      <td>-0.370014</td>\n",
       "      <td>-0.209806</td>\n",
       "      <td>-0.266799</td>\n",
       "      <td>-0.320124</td>\n",
       "      <td>0.127141</td>\n",
       "      <td>-0.127775</td>\n",
       "      <td>0.449106</td>\n",
       "      <td>1.000000</td>\n",
       "    </tr>\n",
       "  </tbody>\n",
       "</table>\n",
       "<p>22 rows × 22 columns</p>\n",
       "</div>"
      ],
      "text/plain": [
       "                      Diabetes_binary    HighBP  HighChol  CholCheck  \\\n",
       "Diabetes_binary              1.000000  0.263129  0.200276   0.064761   \n",
       "HighBP                       0.263129  1.000000  0.298199   0.098508   \n",
       "HighChol                     0.200276  0.298199  1.000000   0.085642   \n",
       "CholCheck                    0.064761  0.098508  0.085642   1.000000   \n",
       "BMI                          0.216843  0.213748  0.106722   0.034495   \n",
       "Smoker                       0.060789  0.096991  0.091299  -0.009929   \n",
       "Stroke                       0.105816  0.129575  0.092620   0.024158   \n",
       "HeartDiseaseorAttack         0.177282  0.209361  0.180765   0.044206   \n",
       "PhysActivity                -0.118133 -0.125267 -0.078046   0.004190   \n",
       "Fruits                      -0.040779 -0.040555 -0.040859   0.023849   \n",
       "Veggies                     -0.056584 -0.061266 -0.039874   0.006121   \n",
       "HvyAlcoholConsump           -0.057056 -0.003972 -0.011543  -0.023730   \n",
       "AnyHealthcare                0.016255  0.038425  0.042230   0.117626   \n",
       "NoDocbcCost                  0.031433  0.017358  0.013310  -0.058255   \n",
       "GenHlth                      0.293569  0.300530  0.208426   0.046589   \n",
       "MentHlth                     0.069315  0.056456  0.062069  -0.008366   \n",
       "PhysHlth                     0.171337  0.161212  0.121751   0.031775   \n",
       "DiffWalk                     0.218344  0.223618  0.144672   0.040585   \n",
       "Sex                          0.031430  0.052207  0.031205  -0.022115   \n",
       "Age                          0.177442  0.344452  0.272318   0.090321   \n",
       "Education                   -0.124456 -0.141358 -0.070802   0.001510   \n",
       "Income                      -0.163919 -0.171235 -0.085459   0.014259   \n",
       "\n",
       "                           BMI    Smoker    Stroke  HeartDiseaseorAttack  \\\n",
       "Diabetes_binary       0.216843  0.060789  0.105816              0.177282   \n",
       "HighBP                0.213748  0.096991  0.129575              0.209361   \n",
       "HighChol              0.106722  0.091299  0.092620              0.180765   \n",
       "CholCheck             0.034495 -0.009929  0.024158              0.044206   \n",
       "BMI                   1.000000  0.013804  0.020153              0.052904   \n",
       "Smoker                0.013804  1.000000  0.061173              0.114441   \n",
       "Stroke                0.020153  0.061173  1.000000              0.203002   \n",
       "HeartDiseaseorAttack  0.052904  0.114441  0.203002              1.000000   \n",
       "PhysActivity         -0.147294 -0.087401 -0.069151             -0.087299   \n",
       "Fruits               -0.087518 -0.077666 -0.013389             -0.019790   \n",
       "Veggies              -0.062275 -0.030678 -0.041124             -0.039167   \n",
       "HvyAlcoholConsump    -0.048736  0.101619 -0.016950             -0.028991   \n",
       "AnyHealthcare        -0.018471 -0.023251  0.008776              0.018734   \n",
       "NoDocbcCost           0.058206  0.048946  0.034804              0.031000   \n",
       "GenHlth               0.239185  0.163143  0.177942              0.258383   \n",
       "MentHlth              0.085310  0.092196  0.070172              0.064621   \n",
       "PhysHlth              0.121141  0.116460  0.148944              0.181698   \n",
       "DiffWalk              0.197078  0.122463  0.176567              0.212709   \n",
       "Sex                   0.042950  0.093662  0.002978              0.086096   \n",
       "Age                  -0.036618  0.120641  0.126974              0.221618   \n",
       "Education            -0.103932 -0.161955 -0.076009             -0.099600   \n",
       "Income               -0.100069 -0.123937 -0.128599             -0.141011   \n",
       "\n",
       "                      PhysActivity    Fruits  ...  AnyHealthcare  NoDocbcCost  \\\n",
       "Diabetes_binary          -0.118133 -0.040779  ...       0.016255     0.031433   \n",
       "HighBP                   -0.125267 -0.040555  ...       0.038425     0.017358   \n",
       "HighChol                 -0.078046 -0.040859  ...       0.042230     0.013310   \n",
       "CholCheck                 0.004190  0.023849  ...       0.117626    -0.058255   \n",
       "BMI                      -0.147294 -0.087518  ...      -0.018471     0.058206   \n",
       "Smoker                   -0.087401 -0.077666  ...      -0.023251     0.048946   \n",
       "Stroke                   -0.069151 -0.013389  ...       0.008776     0.034804   \n",
       "HeartDiseaseorAttack     -0.087299 -0.019790  ...       0.018734     0.031000   \n",
       "PhysActivity              1.000000  0.142756  ...       0.035505    -0.061638   \n",
       "Fruits                    0.142756  1.000000  ...       0.031544    -0.044243   \n",
       "Veggies                   0.153150  0.254342  ...       0.029584    -0.032232   \n",
       "HvyAlcoholConsump         0.012392 -0.035288  ...      -0.010488     0.004684   \n",
       "AnyHealthcare             0.035505  0.031544  ...       1.000000    -0.232532   \n",
       "NoDocbcCost              -0.061638 -0.044243  ...      -0.232532     1.000000   \n",
       "GenHlth                  -0.266186 -0.103854  ...      -0.040817     0.166397   \n",
       "MentHlth                 -0.125587 -0.068217  ...      -0.052707     0.192107   \n",
       "PhysHlth                 -0.219230 -0.044633  ...      -0.008276     0.148998   \n",
       "DiffWalk                 -0.253174 -0.048352  ...       0.007074     0.118447   \n",
       "Sex                       0.032482 -0.091175  ...      -0.019405    -0.044931   \n",
       "Age                      -0.092511  0.064547  ...       0.138046    -0.119777   \n",
       "Education                 0.199658  0.110187  ...       0.122514    -0.100701   \n",
       "Income                    0.198539  0.079929  ...       0.157999    -0.203182   \n",
       "\n",
       "                       GenHlth  MentHlth  PhysHlth  DiffWalk       Sex  \\\n",
       "Diabetes_binary       0.293569  0.069315  0.171337  0.218344  0.031430   \n",
       "HighBP                0.300530  0.056456  0.161212  0.223618  0.052207   \n",
       "HighChol              0.208426  0.062069  0.121751  0.144672  0.031205   \n",
       "CholCheck             0.046589 -0.008366  0.031775  0.040585 -0.022115   \n",
       "BMI                   0.239185  0.085310  0.121141  0.197078  0.042950   \n",
       "Smoker                0.163143  0.092196  0.116460  0.122463  0.093662   \n",
       "Stroke                0.177942  0.070172  0.148944  0.176567  0.002978   \n",
       "HeartDiseaseorAttack  0.258383  0.064621  0.181698  0.212709  0.086096   \n",
       "PhysActivity         -0.266186 -0.125587 -0.219230 -0.253174  0.032482   \n",
       "Fruits               -0.103854 -0.068217 -0.044633 -0.048352 -0.091175   \n",
       "Veggies              -0.123066 -0.058884 -0.064290 -0.080506 -0.064765   \n",
       "HvyAlcoholConsump    -0.036724  0.024716 -0.026415 -0.037668  0.005740   \n",
       "AnyHealthcare        -0.040817 -0.052707 -0.008276  0.007074 -0.019405   \n",
       "NoDocbcCost           0.166397  0.192107  0.148998  0.118447 -0.044931   \n",
       "GenHlth               1.000000  0.301674  0.524364  0.456920 -0.006091   \n",
       "MentHlth              0.301674  1.000000  0.353619  0.233688 -0.080705   \n",
       "PhysHlth              0.524364  0.353619  1.000000  0.478417 -0.043137   \n",
       "DiffWalk              0.456920  0.233688  0.478417  1.000000 -0.070299   \n",
       "Sex                  -0.006091 -0.080705 -0.043137 -0.070299  1.000000   \n",
       "Age                   0.152450 -0.092068  0.099130  0.204450 -0.027340   \n",
       "Education            -0.284912 -0.101830 -0.155093 -0.192642  0.019480   \n",
       "Income               -0.370014 -0.209806 -0.266799 -0.320124  0.127141   \n",
       "\n",
       "                           Age  Education    Income  \n",
       "Diabetes_binary       0.177442  -0.124456 -0.163919  \n",
       "HighBP                0.344452  -0.141358 -0.171235  \n",
       "HighChol              0.272318  -0.070802 -0.085459  \n",
       "CholCheck             0.090321   0.001510  0.014259  \n",
       "BMI                  -0.036618  -0.103932 -0.100069  \n",
       "Smoker                0.120641  -0.161955 -0.123937  \n",
       "Stroke                0.126974  -0.076009 -0.128599  \n",
       "HeartDiseaseorAttack  0.221618  -0.099600 -0.141011  \n",
       "PhysActivity         -0.092511   0.199658  0.198539  \n",
       "Fruits                0.064547   0.110187  0.079929  \n",
       "Veggies              -0.009771   0.154329  0.151087  \n",
       "HvyAlcoholConsump    -0.034578   0.023997  0.053619  \n",
       "AnyHealthcare         0.138046   0.122514  0.157999  \n",
       "NoDocbcCost          -0.119777  -0.100701 -0.203182  \n",
       "GenHlth               0.152450  -0.284912 -0.370014  \n",
       "MentHlth             -0.092068  -0.101830 -0.209806  \n",
       "PhysHlth              0.099130  -0.155093 -0.266799  \n",
       "DiffWalk              0.204450  -0.192642 -0.320124  \n",
       "Sex                  -0.027340   0.019480  0.127141  \n",
       "Age                   1.000000  -0.101901 -0.127775  \n",
       "Education            -0.101901   1.000000  0.449106  \n",
       "Income               -0.127775   0.449106  1.000000  \n",
       "\n",
       "[22 rows x 22 columns]"
      ]
     },
     "execution_count": 18,
     "metadata": {},
     "output_type": "execute_result"
    }
   ],
   "source": [
    "Orginal_data.corr()"
   ]
  },
  {
   "cell_type": "code",
   "execution_count": 19,
   "id": "0679d2f3",
   "metadata": {
    "execution": {
     "iopub.execute_input": "2022-10-11T06:50:22.768920Z",
     "iopub.status.busy": "2022-10-11T06:50:22.768023Z",
     "iopub.status.idle": "2022-10-11T06:50:22.774612Z",
     "shell.execute_reply": "2022-10-11T06:50:22.773670Z"
    },
    "papermill": {
     "duration": 0.026752,
     "end_time": "2022-10-11T06:50:22.777230",
     "exception": false,
     "start_time": "2022-10-11T06:50:22.750478",
     "status": "completed"
    },
    "tags": []
   },
   "outputs": [],
   "source": [
    "X = Orginal_data.iloc[:,1:]\n",
    "Y = Orginal_data.iloc[:,0]"
   ]
  },
  {
   "cell_type": "code",
   "execution_count": 20,
   "id": "90ff4f43",
   "metadata": {
    "execution": {
     "iopub.execute_input": "2022-10-11T06:50:22.812135Z",
     "iopub.status.busy": "2022-10-11T06:50:22.811079Z",
     "iopub.status.idle": "2022-10-11T06:50:23.083605Z",
     "shell.execute_reply": "2022-10-11T06:50:23.082045Z"
    },
    "papermill": {
     "duration": 0.293355,
     "end_time": "2022-10-11T06:50:23.086971",
     "exception": false,
     "start_time": "2022-10-11T06:50:22.793616",
     "status": "completed"
    },
    "tags": []
   },
   "outputs": [
    {
     "data": {
      "text/html": [
       "<div>\n",
       "<style scoped>\n",
       "    .dataframe tbody tr th:only-of-type {\n",
       "        vertical-align: middle;\n",
       "    }\n",
       "\n",
       "    .dataframe tbody tr th {\n",
       "        vertical-align: top;\n",
       "    }\n",
       "\n",
       "    .dataframe thead th {\n",
       "        text-align: right;\n",
       "    }\n",
       "</style>\n",
       "<table border=\"1\" class=\"dataframe\">\n",
       "  <thead>\n",
       "    <tr style=\"text-align: right;\">\n",
       "      <th></th>\n",
       "      <th>Feature</th>\n",
       "      <th>Score</th>\n",
       "    </tr>\n",
       "  </thead>\n",
       "  <tbody>\n",
       "    <tr>\n",
       "      <th>0</th>\n",
       "      <td>HighBP</td>\n",
       "      <td>10029.013935</td>\n",
       "    </tr>\n",
       "    <tr>\n",
       "      <th>1</th>\n",
       "      <td>HighChol</td>\n",
       "      <td>5859.710582</td>\n",
       "    </tr>\n",
       "    <tr>\n",
       "      <th>2</th>\n",
       "      <td>CholCheck</td>\n",
       "      <td>39.716825</td>\n",
       "    </tr>\n",
       "    <tr>\n",
       "      <th>3</th>\n",
       "      <td>BMI</td>\n",
       "      <td>18355.166400</td>\n",
       "    </tr>\n",
       "    <tr>\n",
       "      <th>4</th>\n",
       "      <td>Smoker</td>\n",
       "      <td>521.978858</td>\n",
       "    </tr>\n",
       "    <tr>\n",
       "      <th>5</th>\n",
       "      <td>Stroke</td>\n",
       "      <td>2725.225194</td>\n",
       "    </tr>\n",
       "    <tr>\n",
       "      <th>6</th>\n",
       "      <td>HeartDiseaseorAttack</td>\n",
       "      <td>7221.975378</td>\n",
       "    </tr>\n",
       "    <tr>\n",
       "      <th>7</th>\n",
       "      <td>PhysActivity</td>\n",
       "      <td>861.887532</td>\n",
       "    </tr>\n",
       "    <tr>\n",
       "      <th>8</th>\n",
       "      <td>Fruits</td>\n",
       "      <td>154.291404</td>\n",
       "    </tr>\n",
       "    <tr>\n",
       "      <th>9</th>\n",
       "      <td>Veggies</td>\n",
       "      <td>153.169215</td>\n",
       "    </tr>\n",
       "    <tr>\n",
       "      <th>10</th>\n",
       "      <td>HvyAlcoholConsump</td>\n",
       "      <td>779.424807</td>\n",
       "    </tr>\n",
       "    <tr>\n",
       "      <th>11</th>\n",
       "      <td>AnyHealthcare</td>\n",
       "      <td>3.280938</td>\n",
       "    </tr>\n",
       "    <tr>\n",
       "      <th>12</th>\n",
       "      <td>NoDocbcCost</td>\n",
       "      <td>229.542412</td>\n",
       "    </tr>\n",
       "    <tr>\n",
       "      <th>13</th>\n",
       "      <td>GenHlth</td>\n",
       "      <td>9938.507776</td>\n",
       "    </tr>\n",
       "    <tr>\n",
       "      <th>14</th>\n",
       "      <td>MentHlth</td>\n",
       "      <td>21029.632228</td>\n",
       "    </tr>\n",
       "    <tr>\n",
       "      <th>15</th>\n",
       "      <td>PhysHlth</td>\n",
       "      <td>133424.406534</td>\n",
       "    </tr>\n",
       "    <tr>\n",
       "      <th>16</th>\n",
       "      <td>DiffWalk</td>\n",
       "      <td>10059.506391</td>\n",
       "    </tr>\n",
       "    <tr>\n",
       "      <th>17</th>\n",
       "      <td>Sex</td>\n",
       "      <td>140.248274</td>\n",
       "    </tr>\n",
       "    <tr>\n",
       "      <th>18</th>\n",
       "      <td>Age</td>\n",
       "      <td>9276.141199</td>\n",
       "    </tr>\n",
       "    <tr>\n",
       "      <th>19</th>\n",
       "      <td>Education</td>\n",
       "      <td>756.035496</td>\n",
       "    </tr>\n",
       "    <tr>\n",
       "      <th>20</th>\n",
       "      <td>Income</td>\n",
       "      <td>4829.816361</td>\n",
       "    </tr>\n",
       "  </tbody>\n",
       "</table>\n",
       "</div>"
      ],
      "text/plain": [
       "                 Feature          Score\n",
       "0                 HighBP   10029.013935\n",
       "1               HighChol    5859.710582\n",
       "2              CholCheck      39.716825\n",
       "3                    BMI   18355.166400\n",
       "4                 Smoker     521.978858\n",
       "5                 Stroke    2725.225194\n",
       "6   HeartDiseaseorAttack    7221.975378\n",
       "7           PhysActivity     861.887532\n",
       "8                 Fruits     154.291404\n",
       "9                Veggies     153.169215\n",
       "10     HvyAlcoholConsump     779.424807\n",
       "11         AnyHealthcare       3.280938\n",
       "12           NoDocbcCost     229.542412\n",
       "13               GenHlth    9938.507776\n",
       "14              MentHlth   21029.632228\n",
       "15              PhysHlth  133424.406534\n",
       "16              DiffWalk   10059.506391\n",
       "17                   Sex     140.248274\n",
       "18                   Age    9276.141199\n",
       "19             Education     756.035496\n",
       "20                Income    4829.816361"
      ]
     },
     "execution_count": 20,
     "metadata": {},
     "output_type": "execute_result"
    }
   ],
   "source": [
    "#apply SelectKBest class to extract top 10 best features\n",
    "BestFeatures = SelectKBest(score_func=chi2, k=10)\n",
    "fit = BestFeatures.fit(X,Y)\n",
    "\n",
    "df_scores = pd.DataFrame(fit.scores_)\n",
    "df_columns = pd.DataFrame(X.columns)\n",
    "\n",
    "#concatenating two dataframes for better visualization\n",
    "f_Scores = pd.concat([df_columns,df_scores],axis=1)               # feature scores\n",
    "f_Scores.columns = ['Feature','Score']\n",
    "\n",
    "f_Scores"
   ]
  },
  {
   "cell_type": "code",
   "execution_count": 21,
   "id": "e30f1ec7",
   "metadata": {
    "execution": {
     "iopub.execute_input": "2022-10-11T06:50:23.143722Z",
     "iopub.status.busy": "2022-10-11T06:50:23.143138Z",
     "iopub.status.idle": "2022-10-11T06:50:23.155774Z",
     "shell.execute_reply": "2022-10-11T06:50:23.154589Z"
    },
    "papermill": {
     "duration": 0.044318,
     "end_time": "2022-10-11T06:50:23.158717",
     "exception": false,
     "start_time": "2022-10-11T06:50:23.114399",
     "status": "completed"
    },
    "tags": []
   },
   "outputs": [
    {
     "name": "stdout",
     "output_type": "stream",
     "text": [
      "                 Feature          Score\n",
      "15              PhysHlth  133424.406534\n",
      "14              MentHlth   21029.632228\n",
      "3                    BMI   18355.166400\n",
      "16              DiffWalk   10059.506391\n",
      "0                 HighBP   10029.013935\n",
      "13               GenHlth    9938.507776\n",
      "18                   Age    9276.141199\n",
      "6   HeartDiseaseorAttack    7221.975378\n",
      "1               HighChol    5859.710582\n",
      "20                Income    4829.816361\n",
      "5                 Stroke    2725.225194\n",
      "7           PhysActivity     861.887532\n",
      "10     HvyAlcoholConsump     779.424807\n",
      "19             Education     756.035496\n",
      "4                 Smoker     521.978858\n",
      "12           NoDocbcCost     229.542412\n"
     ]
    }
   ],
   "source": [
    "print(f_Scores.nlargest(16,'Score'))"
   ]
  },
  {
   "cell_type": "code",
   "execution_count": 22,
   "id": "33fedda5",
   "metadata": {
    "execution": {
     "iopub.execute_input": "2022-10-11T06:50:23.199248Z",
     "iopub.status.busy": "2022-10-11T06:50:23.198088Z",
     "iopub.status.idle": "2022-10-11T06:50:23.212277Z",
     "shell.execute_reply": "2022-10-11T06:50:23.211039Z"
    },
    "papermill": {
     "duration": 0.034445,
     "end_time": "2022-10-11T06:50:23.214772",
     "exception": false,
     "start_time": "2022-10-11T06:50:23.180327",
     "status": "completed"
    },
    "tags": []
   },
   "outputs": [],
   "source": [
    "colomns = [\"Fruits\" , \"Veggies\" , \"Sex\" , \"CholCheck\" , \"AnyHealthcare\" , \"Income\"]\n",
    "\n",
    "data.drop(colomns , axis= 1 ,inplace=True)"
   ]
  },
  {
   "cell_type": "code",
   "execution_count": 23,
   "id": "c5d6becc",
   "metadata": {
    "execution": {
     "iopub.execute_input": "2022-10-11T06:50:23.249936Z",
     "iopub.status.busy": "2022-10-11T06:50:23.249071Z",
     "iopub.status.idle": "2022-10-11T06:50:23.261219Z",
     "shell.execute_reply": "2022-10-11T06:50:23.260288Z"
    },
    "papermill": {
     "duration": 0.032348,
     "end_time": "2022-10-11T06:50:23.263666",
     "exception": false,
     "start_time": "2022-10-11T06:50:23.231318",
     "status": "completed"
    },
    "tags": []
   },
   "outputs": [],
   "source": [
    "X=data.drop(\"Diabetes_binary\",axis=1)\n",
    "Y=data[\"Diabetes_binary\"]"
   ]
  },
  {
   "cell_type": "code",
   "execution_count": 24,
   "id": "228f0dbb",
   "metadata": {
    "execution": {
     "iopub.execute_input": "2022-10-11T06:50:23.299011Z",
     "iopub.status.busy": "2022-10-11T06:50:23.298148Z",
     "iopub.status.idle": "2022-10-11T06:50:23.308772Z",
     "shell.execute_reply": "2022-10-11T06:50:23.307906Z"
    },
    "papermill": {
     "duration": 0.030553,
     "end_time": "2022-10-11T06:50:23.310909",
     "exception": false,
     "start_time": "2022-10-11T06:50:23.280356",
     "status": "completed"
    },
    "tags": []
   },
   "outputs": [
    {
     "data": {
      "text/plain": [
       "0    194377\n",
       "1     35097\n",
       "Name: Diabetes_binary, dtype: int64"
      ]
     },
     "execution_count": 24,
     "metadata": {},
     "output_type": "execute_result"
    }
   ],
   "source": [
    "Y.value_counts()"
   ]
  },
  {
   "cell_type": "code",
   "execution_count": 25,
   "id": "e15a4789",
   "metadata": {
    "execution": {
     "iopub.execute_input": "2022-10-11T06:50:23.346490Z",
     "iopub.status.busy": "2022-10-11T06:50:23.345504Z",
     "iopub.status.idle": "2022-10-11T06:50:37.895754Z",
     "shell.execute_reply": "2022-10-11T06:50:37.894308Z"
    },
    "papermill": {
     "duration": 14.570956,
     "end_time": "2022-10-11T06:50:37.898643",
     "exception": false,
     "start_time": "2022-10-11T06:50:23.327687",
     "status": "completed"
    },
    "tags": []
   },
   "outputs": [
    {
     "name": "stdout",
     "output_type": "stream",
     "text": [
      "(70194,) (70194, 15)\n"
     ]
    }
   ],
   "source": [
    "from imblearn.under_sampling import NearMiss\n",
    "nm = NearMiss(version = 1 , n_neighbors = 10)\n",
    "\n",
    "x_sm,y_sm= nm.fit_resample(X,Y)\n",
    "\n",
    "print(y_sm.shape , x_sm.shape)"
   ]
  },
  {
   "cell_type": "code",
   "execution_count": 26,
   "id": "b5296a5d",
   "metadata": {
    "execution": {
     "iopub.execute_input": "2022-10-11T06:50:37.935467Z",
     "iopub.status.busy": "2022-10-11T06:50:37.934126Z",
     "iopub.status.idle": "2022-10-11T06:50:37.943182Z",
     "shell.execute_reply": "2022-10-11T06:50:37.942307Z"
    },
    "papermill": {
     "duration": 0.029633,
     "end_time": "2022-10-11T06:50:37.945558",
     "exception": false,
     "start_time": "2022-10-11T06:50:37.915925",
     "status": "completed"
    },
    "tags": []
   },
   "outputs": [
    {
     "data": {
      "text/plain": [
       "0    35097\n",
       "1    35097\n",
       "Name: Diabetes_binary, dtype: int64"
      ]
     },
     "execution_count": 26,
     "metadata": {},
     "output_type": "execute_result"
    }
   ],
   "source": [
    "y_sm.value_counts()"
   ]
  },
  {
   "cell_type": "code",
   "execution_count": 27,
   "id": "34fecf8c",
   "metadata": {
    "execution": {
     "iopub.execute_input": "2022-10-11T06:50:37.982575Z",
     "iopub.status.busy": "2022-10-11T06:50:37.981725Z",
     "iopub.status.idle": "2022-10-11T06:50:38.008557Z",
     "shell.execute_reply": "2022-10-11T06:50:38.007480Z"
    },
    "papermill": {
     "duration": 0.048185,
     "end_time": "2022-10-11T06:50:38.011152",
     "exception": false,
     "start_time": "2022-10-11T06:50:37.962967",
     "status": "completed"
    },
    "tags": []
   },
   "outputs": [],
   "source": [
    "X_train , X_test , Y_train , Y_test = train_test_split(x_sm,y_sm, test_size=0.2 , random_state=42)"
   ]
  },
  {
   "cell_type": "code",
   "execution_count": 28,
   "id": "c05db26b",
   "metadata": {
    "execution": {
     "iopub.execute_input": "2022-10-11T06:50:38.047125Z",
     "iopub.status.busy": "2022-10-11T06:50:38.046370Z",
     "iopub.status.idle": "2022-10-11T06:50:38.073265Z",
     "shell.execute_reply": "2022-10-11T06:50:38.071992Z"
    },
    "papermill": {
     "duration": 0.047891,
     "end_time": "2022-10-11T06:50:38.075965",
     "exception": false,
     "start_time": "2022-10-11T06:50:38.028074",
     "status": "completed"
    },
    "tags": []
   },
   "outputs": [],
   "source": [
    "from sklearn.preprocessing import StandardScaler\n",
    "scalar = StandardScaler()\n",
    "X_train = scalar.fit_transform(X_train)\n",
    "X_test = scalar.fit_transform(X_test)"
   ]
  },
  {
   "cell_type": "code",
   "execution_count": 29,
   "id": "c1998ce8",
   "metadata": {
    "execution": {
     "iopub.execute_input": "2022-10-11T06:50:38.112793Z",
     "iopub.status.busy": "2022-10-11T06:50:38.112355Z",
     "iopub.status.idle": "2022-10-11T06:50:38.354496Z",
     "shell.execute_reply": "2022-10-11T06:50:38.353174Z"
    },
    "papermill": {
     "duration": 0.264065,
     "end_time": "2022-10-11T06:50:38.357688",
     "exception": false,
     "start_time": "2022-10-11T06:50:38.093623",
     "status": "completed"
    },
    "tags": []
   },
   "outputs": [
    {
     "name": "stdout",
     "output_type": "stream",
     "text": [
      "Training set score: 0.8370\n",
      "Test set score: 0.8332\n"
     ]
    }
   ],
   "source": [
    "lg = LogisticRegression(max_iter = 1200)\n",
    "lg.fit(X_train , Y_train)\n",
    "\n",
    "# make predictions on test set\n",
    "y_pred=lg.predict(X_test)\n",
    "\n",
    "print('Training set score: {:.4f}'.format(lg.score(X_train, Y_train)))\n",
    "\n",
    "print('Test set score: {:.4f}'.format(lg.score(X_test, Y_test)))"
   ]
  },
  {
   "cell_type": "code",
   "execution_count": 30,
   "id": "ddc36917",
   "metadata": {
    "execution": {
     "iopub.execute_input": "2022-10-11T06:50:38.416306Z",
     "iopub.status.busy": "2022-10-11T06:50:38.415733Z",
     "iopub.status.idle": "2022-10-11T06:50:38.425467Z",
     "shell.execute_reply": "2022-10-11T06:50:38.424216Z"
    },
    "papermill": {
     "duration": 0.046916,
     "end_time": "2022-10-11T06:50:38.432863",
     "exception": false,
     "start_time": "2022-10-11T06:50:38.385947",
     "status": "completed"
    },
    "tags": []
   },
   "outputs": [
    {
     "name": "stdout",
     "output_type": "stream",
     "text": [
      "Mean Squared Error : 0.16682099864662725\n",
      "Root Mean Squared Error : 0.4084372640279377\n"
     ]
    }
   ],
   "source": [
    "#check MSE & RMSE \n",
    "mse =mean_squared_error(Y_test, y_pred)\n",
    "print('Mean Squared Error : '+ str(mse))\n",
    "rmse = math.sqrt(mean_squared_error(Y_test, y_pred))\n",
    "print('Root Mean Squared Error : '+ str(rmse))"
   ]
  },
  {
   "cell_type": "code",
   "execution_count": 31,
   "id": "d311226d",
   "metadata": {
    "execution": {
     "iopub.execute_input": "2022-10-11T06:50:38.484164Z",
     "iopub.status.busy": "2022-10-11T06:50:38.483741Z",
     "iopub.status.idle": "2022-10-11T06:50:38.766736Z",
     "shell.execute_reply": "2022-10-11T06:50:38.765473Z"
    },
    "papermill": {
     "duration": 0.307207,
     "end_time": "2022-10-11T06:50:38.769300",
     "exception": false,
     "start_time": "2022-10-11T06:50:38.462093",
     "status": "completed"
    },
    "tags": []
   },
   "outputs": [
    {
     "name": "stdout",
     "output_type": "stream",
     "text": [
      "              precision    recall  f1-score   support\n",
      "\n",
      "           0       0.78      0.93      0.85      7012\n",
      "           1       0.91      0.74      0.82      7027\n",
      "\n",
      "    accuracy                           0.83     14039\n",
      "   macro avg       0.85      0.83      0.83     14039\n",
      "weighted avg       0.85      0.83      0.83     14039\n",
      "\n"
     ]
    },
    {
     "data": {
      "image/png": "[encoded data removed]",
      "text/plain": [
       "<Figure size 432x288 with 2 Axes>"
      ]
     },
     "metadata": {
      "needs_background": "light"
     },
     "output_type": "display_data"
    }
   ],
   "source": [
    "matrix = classification_report(Y_test,y_pred )\n",
    "print(matrix)\n",
    "\n",
    "# calculating and plotting the confusion matrix\n",
    "cm1 = confusion_matrix(Y_test,y_pred)\n",
    "plot_confusion_matrix(conf_mat=cm1,show_absolute=True,\n",
    "                                show_normed=True,\n",
    "                                colorbar=True)\n",
    "plt.show()"
   ]
  },
  {
   "cell_type": "code",
   "execution_count": 32,
   "id": "d9fb9016",
   "metadata": {
    "execution": {
     "iopub.execute_input": "2022-10-11T06:50:38.806351Z",
     "iopub.status.busy": "2022-10-11T06:50:38.805532Z",
     "iopub.status.idle": "2022-10-11T06:50:38.989501Z",
     "shell.execute_reply": "2022-10-11T06:50:38.988146Z"
    },
    "papermill": {
     "duration": 0.205424,
     "end_time": "2022-10-11T06:50:38.992062",
     "exception": false,
     "start_time": "2022-10-11T06:50:38.786638",
     "status": "completed"
    },
    "tags": []
   },
   "outputs": [
    {
     "name": "stdout",
     "output_type": "stream",
     "text": [
      "Training set score: 0.8594\n",
      "Test set score: 0.8499\n"
     ]
    }
   ],
   "source": [
    "dt = DecisionTreeClassifier( max_depth= 12)\n",
    "dt.fit(X_train , Y_train)\n",
    "\n",
    "# make predictions on test set\n",
    "y_pred=dt.predict(X_test)\n",
    "\n",
    "print('Training set score: {:.4f}'.format(dt.score(X_train, Y_train)))\n",
    "\n",
    "print('Test set score: {:.4f}'.format(dt.score(X_test, Y_test)))"
   ]
  },
  {
   "cell_type": "code",
   "execution_count": 33,
   "id": "af733981",
   "metadata": {
    "execution": {
     "iopub.execute_input": "2022-10-11T06:50:39.029992Z",
     "iopub.status.busy": "2022-10-11T06:50:39.028869Z",
     "iopub.status.idle": "2022-10-11T06:50:39.045817Z",
     "shell.execute_reply": "2022-10-11T06:50:39.044483Z"
    },
    "papermill": {
     "duration": 0.038982,
     "end_time": "2022-10-11T06:50:39.048622",
     "exception": false,
     "start_time": "2022-10-11T06:50:39.009640",
     "status": "completed"
    },
    "tags": []
   },
   "outputs": [
    {
     "data": {
      "text/html": [
       "<div>\n",
       "<style scoped>\n",
       "    .dataframe tbody tr th:only-of-type {\n",
       "        vertical-align: middle;\n",
       "    }\n",
       "\n",
       "    .dataframe tbody tr th {\n",
       "        vertical-align: top;\n",
       "    }\n",
       "\n",
       "    .dataframe thead th {\n",
       "        text-align: right;\n",
       "    }\n",
       "</style>\n",
       "<table border=\"1\" class=\"dataframe\">\n",
       "  <thead>\n",
       "    <tr style=\"text-align: right;\">\n",
       "      <th></th>\n",
       "      <th>True values</th>\n",
       "      <th>Predicted values</th>\n",
       "    </tr>\n",
       "  </thead>\n",
       "  <tbody>\n",
       "    <tr>\n",
       "      <th>13099</th>\n",
       "      <td>0</td>\n",
       "      <td>0</td>\n",
       "    </tr>\n",
       "    <tr>\n",
       "      <th>32607</th>\n",
       "      <td>0</td>\n",
       "      <td>0</td>\n",
       "    </tr>\n",
       "    <tr>\n",
       "      <th>69261</th>\n",
       "      <td>1</td>\n",
       "      <td>1</td>\n",
       "    </tr>\n",
       "    <tr>\n",
       "      <th>59548</th>\n",
       "      <td>1</td>\n",
       "      <td>1</td>\n",
       "    </tr>\n",
       "    <tr>\n",
       "      <th>21659</th>\n",
       "      <td>0</td>\n",
       "      <td>0</td>\n",
       "    </tr>\n",
       "    <tr>\n",
       "      <th>...</th>\n",
       "      <td>...</td>\n",
       "      <td>...</td>\n",
       "    </tr>\n",
       "    <tr>\n",
       "      <th>6631</th>\n",
       "      <td>0</td>\n",
       "      <td>0</td>\n",
       "    </tr>\n",
       "    <tr>\n",
       "      <th>33315</th>\n",
       "      <td>0</td>\n",
       "      <td>0</td>\n",
       "    </tr>\n",
       "    <tr>\n",
       "      <th>32555</th>\n",
       "      <td>0</td>\n",
       "      <td>0</td>\n",
       "    </tr>\n",
       "    <tr>\n",
       "      <th>1138</th>\n",
       "      <td>0</td>\n",
       "      <td>0</td>\n",
       "    </tr>\n",
       "    <tr>\n",
       "      <th>24112</th>\n",
       "      <td>0</td>\n",
       "      <td>1</td>\n",
       "    </tr>\n",
       "  </tbody>\n",
       "</table>\n",
       "<p>14039 rows × 2 columns</p>\n",
       "</div>"
      ],
      "text/plain": [
       "       True values  Predicted values\n",
       "13099            0                 0\n",
       "32607            0                 0\n",
       "69261            1                 1\n",
       "59548            1                 1\n",
       "21659            0                 0\n",
       "...            ...               ...\n",
       "6631             0                 0\n",
       "33315            0                 0\n",
       "32555            0                 0\n",
       "1138             0                 0\n",
       "24112            0                 1\n",
       "\n",
       "[14039 rows x 2 columns]"
      ]
     },
     "execution_count": 33,
     "metadata": {},
     "output_type": "execute_result"
    }
   ],
   "source": [
    "# Creating a new dataframe with true and predicted values\n",
    "pred_df = pd.DataFrame()\n",
    "pred_df['True values'] = Y_test\n",
    "pred_df['Predicted values'] = y_pred\n",
    "pred_df"
   ]
  },
  {
   "cell_type": "code",
   "execution_count": 34,
   "id": "7de17f91",
   "metadata": {
    "execution": {
     "iopub.execute_input": "2022-10-11T06:50:39.086456Z",
     "iopub.status.busy": "2022-10-11T06:50:39.085745Z",
     "iopub.status.idle": "2022-10-11T06:50:39.096818Z",
     "shell.execute_reply": "2022-10-11T06:50:39.094819Z"
    },
    "papermill": {
     "duration": 0.033781,
     "end_time": "2022-10-11T06:50:39.100306",
     "exception": false,
     "start_time": "2022-10-11T06:50:39.066525",
     "status": "completed"
    },
    "tags": []
   },
   "outputs": [
    {
     "name": "stdout",
     "output_type": "stream",
     "text": [
      "Mean Squared Error : 0.15008191466628676\n",
      "Root Mean Squared Error : 0.3874040715664805\n"
     ]
    }
   ],
   "source": [
    "#check MSE & RMSE \n",
    "mse =mean_squared_error(Y_test, y_pred)\n",
    "print('Mean Squared Error : '+ str(mse))\n",
    "rmse = math.sqrt(mean_squared_error(Y_test, y_pred))\n",
    "print('Root Mean Squared Error : '+ str(rmse))"
   ]
  },
  {
   "cell_type": "code",
   "execution_count": 35,
   "id": "96569001",
   "metadata": {
    "execution": {
     "iopub.execute_input": "2022-10-11T06:50:39.140005Z",
     "iopub.status.busy": "2022-10-11T06:50:39.138919Z",
     "iopub.status.idle": "2022-10-11T06:50:39.400834Z",
     "shell.execute_reply": "2022-10-11T06:50:39.399544Z"
    },
    "papermill": {
     "duration": 0.284858,
     "end_time": "2022-10-11T06:50:39.403602",
     "exception": false,
     "start_time": "2022-10-11T06:50:39.118744",
     "status": "completed"
    },
    "tags": []
   },
   "outputs": [
    {
     "name": "stdout",
     "output_type": "stream",
     "text": [
      "              precision    recall  f1-score   support\n",
      "\n",
      "           0       0.79      0.96      0.86      7012\n",
      "           1       0.94      0.74      0.83      7027\n",
      "\n",
      "    accuracy                           0.85     14039\n",
      "   macro avg       0.87      0.85      0.85     14039\n",
      "weighted avg       0.87      0.85      0.85     14039\n",
      "\n"
     ]
    },
    {
     "data": {
      "image/png": "[encoded data removed]",
      "text/plain": [
       "<Figure size 432x288 with 2 Axes>"
      ]
     },
     "metadata": {
      "needs_background": "light"
     },
     "output_type": "display_data"
    }
   ],
   "source": [
    "matrix = classification_report(Y_test,y_pred )\n",
    "print(matrix)\n",
    "\n",
    "# calculating and plotting the confusion matrix\n",
    "cm1 = confusion_matrix(Y_test,y_pred)\n",
    "plot_confusion_matrix(conf_mat=cm1,show_absolute=True,\n",
    "                                show_normed=True,\n",
    "                                colorbar=True)\n",
    "plt.show()"
   ]
  },
  {
   "cell_type": "code",
   "execution_count": 36,
   "id": "fbd8fb7d",
   "metadata": {
    "execution": {
     "iopub.execute_input": "2022-10-11T06:50:39.441944Z",
     "iopub.status.busy": "2022-10-11T06:50:39.441044Z",
     "iopub.status.idle": "2022-10-11T06:50:39.924350Z",
     "shell.execute_reply": "2022-10-11T06:50:39.922765Z"
    },
    "papermill": {
     "duration": 0.505326,
     "end_time": "2022-10-11T06:50:39.927062",
     "exception": false,
     "start_time": "2022-10-11T06:50:39.421736",
     "status": "completed"
    },
    "tags": []
   },
   "outputs": [
    {
     "name": "stdout",
     "output_type": "stream",
     "text": [
      "Training set score: 0.8624\n",
      "Test set score: 0.8568\n"
     ]
    }
   ],
   "source": [
    "rf = RandomForestClassifier(max_depth=12 ,n_estimators =10, random_state=42 )\n",
    "\n",
    "# fitting the model on the train data\n",
    "rf.fit(X_train, Y_train)\n",
    "\n",
    "# make predictions on test set\n",
    "y_pred=rf.predict(X_test)\n",
    "\n",
    "print('Training set score: {:.4f}'.format(rf.score(X_train, Y_train)))\n",
    "print('Test set score: {:.4f}'.format(rf.score(X_test, Y_test)))"
   ]
  },
  {
   "cell_type": "code",
   "execution_count": 37,
   "id": "b932a6b4",
   "metadata": {
    "execution": {
     "iopub.execute_input": "2022-10-11T06:50:39.967744Z",
     "iopub.status.busy": "2022-10-11T06:50:39.967312Z",
     "iopub.status.idle": "2022-10-11T06:50:39.985600Z",
     "shell.execute_reply": "2022-10-11T06:50:39.984187Z"
    },
    "papermill": {
     "duration": 0.04116,
     "end_time": "2022-10-11T06:50:39.988098",
     "exception": false,
     "start_time": "2022-10-11T06:50:39.946938",
     "status": "completed"
    },
    "tags": []
   },
   "outputs": [
    {
     "data": {
      "text/html": [
       "<div>\n",
       "<style scoped>\n",
       "    .dataframe tbody tr th:only-of-type {\n",
       "        vertical-align: middle;\n",
       "    }\n",
       "\n",
       "    .dataframe tbody tr th {\n",
       "        vertical-align: top;\n",
       "    }\n",
       "\n",
       "    .dataframe thead th {\n",
       "        text-align: right;\n",
       "    }\n",
       "</style>\n",
       "<table border=\"1\" class=\"dataframe\">\n",
       "  <thead>\n",
       "    <tr style=\"text-align: right;\">\n",
       "      <th></th>\n",
       "      <th>True values</th>\n",
       "      <th>Predicted values</th>\n",
       "    </tr>\n",
       "  </thead>\n",
       "  <tbody>\n",
       "    <tr>\n",
       "      <th>13099</th>\n",
       "      <td>0</td>\n",
       "      <td>0</td>\n",
       "    </tr>\n",
       "    <tr>\n",
       "      <th>32607</th>\n",
       "      <td>0</td>\n",
       "      <td>0</td>\n",
       "    </tr>\n",
       "    <tr>\n",
       "      <th>69261</th>\n",
       "      <td>1</td>\n",
       "      <td>1</td>\n",
       "    </tr>\n",
       "    <tr>\n",
       "      <th>59548</th>\n",
       "      <td>1</td>\n",
       "      <td>1</td>\n",
       "    </tr>\n",
       "    <tr>\n",
       "      <th>21659</th>\n",
       "      <td>0</td>\n",
       "      <td>0</td>\n",
       "    </tr>\n",
       "    <tr>\n",
       "      <th>...</th>\n",
       "      <td>...</td>\n",
       "      <td>...</td>\n",
       "    </tr>\n",
       "    <tr>\n",
       "      <th>6631</th>\n",
       "      <td>0</td>\n",
       "      <td>0</td>\n",
       "    </tr>\n",
       "    <tr>\n",
       "      <th>33315</th>\n",
       "      <td>0</td>\n",
       "      <td>0</td>\n",
       "    </tr>\n",
       "    <tr>\n",
       "      <th>32555</th>\n",
       "      <td>0</td>\n",
       "      <td>0</td>\n",
       "    </tr>\n",
       "    <tr>\n",
       "      <th>1138</th>\n",
       "      <td>0</td>\n",
       "      <td>0</td>\n",
       "    </tr>\n",
       "    <tr>\n",
       "      <th>24112</th>\n",
       "      <td>0</td>\n",
       "      <td>0</td>\n",
       "    </tr>\n",
       "  </tbody>\n",
       "</table>\n",
       "<p>14039 rows × 2 columns</p>\n",
       "</div>"
      ],
      "text/plain": [
       "       True values  Predicted values\n",
       "13099            0                 0\n",
       "32607            0                 0\n",
       "69261            1                 1\n",
       "59548            1                 1\n",
       "21659            0                 0\n",
       "...            ...               ...\n",
       "6631             0                 0\n",
       "33315            0                 0\n",
       "32555            0                 0\n",
       "1138             0                 0\n",
       "24112            0                 0\n",
       "\n",
       "[14039 rows x 2 columns]"
      ]
     },
     "execution_count": 37,
     "metadata": {},
     "output_type": "execute_result"
    }
   ],
   "source": [
    "# Creating a new dataframe with true and predicted values\n",
    "pred_df = pd.DataFrame()\n",
    "pred_df['True values'] = Y_test\n",
    "pred_df['Predicted values'] = y_pred\n",
    "pred_df"
   ]
  },
  {
   "cell_type": "code",
   "execution_count": 38,
   "id": "84e161ac",
   "metadata": {
    "execution": {
     "iopub.execute_input": "2022-10-11T06:50:40.027887Z",
     "iopub.status.busy": "2022-10-11T06:50:40.027170Z",
     "iopub.status.idle": "2022-10-11T06:50:40.034701Z",
     "shell.execute_reply": "2022-10-11T06:50:40.033460Z"
    },
    "papermill": {
     "duration": 0.031203,
     "end_time": "2022-10-11T06:50:40.038005",
     "exception": false,
     "start_time": "2022-10-11T06:50:40.006802",
     "status": "completed"
    },
    "tags": []
   },
   "outputs": [
    {
     "name": "stdout",
     "output_type": "stream",
     "text": [
      "Mean Squared Error : 0.1432438207849562\n",
      "Root Mean Squared Error : 0.378475654150906\n"
     ]
    }
   ],
   "source": [
    "#check MSE & RMSE \n",
    "mse =mean_squared_error(Y_test, y_pred)\n",
    "print('Mean Squared Error : '+ str(mse))\n",
    "rmse = math.sqrt(mean_squared_error(Y_test, y_pred))\n",
    "print('Root Mean Squared Error : '+ str(rmse))"
   ]
  },
  {
   "cell_type": "code",
   "execution_count": 39,
   "id": "25c8a821",
   "metadata": {
    "execution": {
     "iopub.execute_input": "2022-10-11T06:50:40.078526Z",
     "iopub.status.busy": "2022-10-11T06:50:40.077102Z",
     "iopub.status.idle": "2022-10-11T06:50:40.361753Z",
     "shell.execute_reply": "2022-10-11T06:50:40.357344Z"
    },
    "papermill": {
     "duration": 0.309242,
     "end_time": "2022-10-11T06:50:40.366238",
     "exception": false,
     "start_time": "2022-10-11T06:50:40.056996",
     "status": "completed"
    },
    "tags": []
   },
   "outputs": [
    {
     "name": "stdout",
     "output_type": "stream",
     "text": [
      "              precision    recall  f1-score   support\n",
      "\n",
      "           0       0.80      0.95      0.87      7012\n",
      "           1       0.94      0.76      0.84      7027\n",
      "\n",
      "    accuracy                           0.86     14039\n",
      "   macro avg       0.87      0.86      0.86     14039\n",
      "weighted avg       0.87      0.86      0.86     14039\n",
      "\n"
     ]
    },
    {
     "data": {
      "image/png": "[encoded data removed]",
      "text/plain": [
       "<Figure size 432x288 with 2 Axes>"
      ]
     },
     "metadata": {
      "needs_background": "light"
     },
     "output_type": "display_data"
    }
   ],
   "source": [
    "matrix = classification_report(Y_test,y_pred )\n",
    "print(matrix)\n",
    "\n",
    "# calculating and plotting the confusion matrix\n",
    "cm1 = confusion_matrix(Y_test,y_pred)\n",
    "plot_confusion_matrix(conf_mat=cm1,show_absolute=True,\n",
    "                                show_normed=True,\n",
    "                                colorbar=True)\n",
    "plt.show()"
   ]
  },
  {
   "cell_type": "code",
   "execution_count": 40,
   "id": "4b8012c5",
   "metadata": {
    "execution": {
     "iopub.execute_input": "2022-10-11T06:50:40.408483Z",
     "iopub.status.busy": "2022-10-11T06:50:40.407248Z",
     "iopub.status.idle": "2022-10-11T06:54:28.146422Z",
     "shell.execute_reply": "2022-10-11T06:54:28.144941Z"
    },
    "papermill": {
     "duration": 227.763364,
     "end_time": "2022-10-11T06:54:28.149099",
     "exception": false,
     "start_time": "2022-10-11T06:50:40.385735",
     "status": "completed"
    },
    "tags": []
   },
   "outputs": [
    {
     "name": "stdout",
     "output_type": "stream",
     "text": [
      "Training set score: 0.8569\n",
      "Test set score: 0.8538\n"
     ]
    }
   ],
   "source": [
    "from sklearn.svm import SVC\n",
    "\n",
    "# define the model\n",
    "clf = SVC(kernel='rbf', C=1.0)\n",
    "\n",
    "# train the model\n",
    "clf.fit(X_train, Y_train)\n",
    "\n",
    "y_pred=clf.predict(X_test)\n",
    "\n",
    "print('Training set score: {:.4f}'.format(clf.score(X_train, Y_train)))\n",
    "\n",
    "print('Test set score: {:.4f}'.format(clf.score(X_test, Y_test)))"
   ]
  },
  {
   "cell_type": "code",
   "execution_count": 41,
   "id": "3fc639bb",
   "metadata": {
    "execution": {
     "iopub.execute_input": "2022-10-11T06:54:28.192065Z",
     "iopub.status.busy": "2022-10-11T06:54:28.191672Z",
     "iopub.status.idle": "2022-10-11T06:54:28.208130Z",
     "shell.execute_reply": "2022-10-11T06:54:28.206989Z"
    },
    "papermill": {
     "duration": 0.040138,
     "end_time": "2022-10-11T06:54:28.210649",
     "exception": false,
     "start_time": "2022-10-11T06:54:28.170511",
     "status": "completed"
    },
    "tags": []
   },
   "outputs": [
    {
     "data": {
      "text/html": [
       "<div>\n",
       "<style scoped>\n",
       "    .dataframe tbody tr th:only-of-type {\n",
       "        vertical-align: middle;\n",
       "    }\n",
       "\n",
       "    .dataframe tbody tr th {\n",
       "        vertical-align: top;\n",
       "    }\n",
       "\n",
       "    .dataframe thead th {\n",
       "        text-align: right;\n",
       "    }\n",
       "</style>\n",
       "<table border=\"1\" class=\"dataframe\">\n",
       "  <thead>\n",
       "    <tr style=\"text-align: right;\">\n",
       "      <th></th>\n",
       "      <th>True values</th>\n",
       "      <th>Predicted values</th>\n",
       "    </tr>\n",
       "  </thead>\n",
       "  <tbody>\n",
       "    <tr>\n",
       "      <th>13099</th>\n",
       "      <td>0</td>\n",
       "      <td>0</td>\n",
       "    </tr>\n",
       "    <tr>\n",
       "      <th>32607</th>\n",
       "      <td>0</td>\n",
       "      <td>0</td>\n",
       "    </tr>\n",
       "    <tr>\n",
       "      <th>69261</th>\n",
       "      <td>1</td>\n",
       "      <td>1</td>\n",
       "    </tr>\n",
       "    <tr>\n",
       "      <th>59548</th>\n",
       "      <td>1</td>\n",
       "      <td>1</td>\n",
       "    </tr>\n",
       "    <tr>\n",
       "      <th>21659</th>\n",
       "      <td>0</td>\n",
       "      <td>0</td>\n",
       "    </tr>\n",
       "    <tr>\n",
       "      <th>...</th>\n",
       "      <td>...</td>\n",
       "      <td>...</td>\n",
       "    </tr>\n",
       "    <tr>\n",
       "      <th>6631</th>\n",
       "      <td>0</td>\n",
       "      <td>0</td>\n",
       "    </tr>\n",
       "    <tr>\n",
       "      <th>33315</th>\n",
       "      <td>0</td>\n",
       "      <td>0</td>\n",
       "    </tr>\n",
       "    <tr>\n",
       "      <th>32555</th>\n",
       "      <td>0</td>\n",
       "      <td>0</td>\n",
       "    </tr>\n",
       "    <tr>\n",
       "      <th>1138</th>\n",
       "      <td>0</td>\n",
       "      <td>0</td>\n",
       "    </tr>\n",
       "    <tr>\n",
       "      <th>24112</th>\n",
       "      <td>0</td>\n",
       "      <td>0</td>\n",
       "    </tr>\n",
       "  </tbody>\n",
       "</table>\n",
       "<p>14039 rows × 2 columns</p>\n",
       "</div>"
      ],
      "text/plain": [
       "       True values  Predicted values\n",
       "13099            0                 0\n",
       "32607            0                 0\n",
       "69261            1                 1\n",
       "59548            1                 1\n",
       "21659            0                 0\n",
       "...            ...               ...\n",
       "6631             0                 0\n",
       "33315            0                 0\n",
       "32555            0                 0\n",
       "1138             0                 0\n",
       "24112            0                 0\n",
       "\n",
       "[14039 rows x 2 columns]"
      ]
     },
     "execution_count": 41,
     "metadata": {},
     "output_type": "execute_result"
    }
   ],
   "source": [
    "# Creating a new dataframe with true and predicted values\n",
    "pred_df = pd.DataFrame()\n",
    "pred_df['True values'] = Y_test\n",
    "pred_df['Predicted values'] = y_pred\n",
    "pred_df"
   ]
  },
  {
   "cell_type": "code",
   "execution_count": 42,
   "id": "a731af58",
   "metadata": {
    "execution": {
     "iopub.execute_input": "2022-10-11T06:54:28.251285Z",
     "iopub.status.busy": "2022-10-11T06:54:28.250839Z",
     "iopub.status.idle": "2022-10-11T06:54:28.259869Z",
     "shell.execute_reply": "2022-10-11T06:54:28.258312Z"
    },
    "papermill": {
     "duration": 0.031816,
     "end_time": "2022-10-11T06:54:28.262225",
     "exception": false,
     "start_time": "2022-10-11T06:54:28.230409",
     "status": "completed"
    },
    "tags": []
   },
   "outputs": [
    {
     "name": "stdout",
     "output_type": "stream",
     "text": [
      "Mean Squared Error : 0.14623548685803833\n",
      "Root Mean Squared Error : 0.3824074879732853\n"
     ]
    }
   ],
   "source": [
    "#check MSE & RMSE \n",
    "mse =mean_squared_error(Y_test, y_pred)\n",
    "print('Mean Squared Error : '+ str(mse))\n",
    "rmse = math.sqrt(mean_squared_error(Y_test, y_pred))\n",
    "print('Root Mean Squared Error : '+ str(rmse))"
   ]
  },
  {
   "cell_type": "code",
   "execution_count": 43,
   "id": "3160234d",
   "metadata": {
    "execution": {
     "iopub.execute_input": "2022-10-11T06:54:28.304452Z",
     "iopub.status.busy": "2022-10-11T06:54:28.303907Z",
     "iopub.status.idle": "2022-10-11T06:54:28.521290Z",
     "shell.execute_reply": "2022-10-11T06:54:28.520034Z"
    },
    "papermill": {
     "duration": 0.24162,
     "end_time": "2022-10-11T06:54:28.524023",
     "exception": false,
     "start_time": "2022-10-11T06:54:28.282403",
     "status": "completed"
    },
    "tags": []
   },
   "outputs": [
    {
     "name": "stdout",
     "output_type": "stream",
     "text": [
      "              precision    recall  f1-score   support\n",
      "\n",
      "           0       0.79      0.95      0.87      7012\n",
      "           1       0.94      0.75      0.84      7027\n",
      "\n",
      "    accuracy                           0.85     14039\n",
      "   macro avg       0.87      0.85      0.85     14039\n",
      "weighted avg       0.87      0.85      0.85     14039\n",
      "\n"
     ]
    },
    {
     "data": {
      "image/png": "[encoded data removed]",
      "text/plain": [
       "<Figure size 432x288 with 2 Axes>"
      ]
     },
     "metadata": {
      "needs_background": "light"
     },
     "output_type": "display_data"
    }
   ],
   "source": [
    "matrix = classification_report(Y_test,y_pred )\n",
    "print(matrix)\n",
    "\n",
    "# calculating and plotting the confusion matrix\n",
    "cm1 = confusion_matrix(Y_test,y_pred)\n",
    "plot_confusion_matrix(conf_mat=cm1,show_absolute=True,\n",
    "                                show_normed=True,\n",
    "                                colorbar=True)\n",
    "plt.show()"
   ]
  },
  {
   "cell_type": "code",
   "execution_count": 44,
   "id": "dcd28904",
   "metadata": {
    "execution": {
     "iopub.execute_input": "2022-10-11T06:54:28.568460Z",
     "iopub.status.busy": "2022-10-11T06:54:28.567327Z",
     "iopub.status.idle": "2022-10-11T06:54:31.779293Z",
     "shell.execute_reply": "2022-10-11T06:54:31.777955Z"
    },
    "papermill": {
     "duration": 3.237093,
     "end_time": "2022-10-11T06:54:31.782650",
     "exception": false,
     "start_time": "2022-10-11T06:54:28.545557",
     "status": "completed"
    },
    "tags": []
   },
   "outputs": [
    {
     "name": "stdout",
     "output_type": "stream",
     "text": [
      "Training set score: 0.8676\n",
      "Test set score: 0.8581\n"
     ]
    }
   ],
   "source": [
    "from xgboost import XGBClassifier\n",
    "xg = XGBClassifier(eval_metric= 'error', learning_rate= 0.1)\n",
    "xg.fit(X_train , Y_train)\n",
    "\n",
    "y_pred=xg.predict(X_test)\n",
    "\n",
    "print('Training set score: {:.4f}'.format(xg.score(X_train, Y_train)))\n",
    "\n",
    "print('Test set score: {:.4f}'.format(xg.score(X_test, Y_test)))"
   ]
  },
  {
   "cell_type": "code",
   "execution_count": 45,
   "id": "83128ded",
   "metadata": {
    "execution": {
     "iopub.execute_input": "2022-10-11T06:54:31.824797Z",
     "iopub.status.busy": "2022-10-11T06:54:31.823921Z",
     "iopub.status.idle": "2022-10-11T06:54:31.839240Z",
     "shell.execute_reply": "2022-10-11T06:54:31.838141Z"
    },
    "papermill": {
     "duration": 0.038832,
     "end_time": "2022-10-11T06:54:31.841648",
     "exception": false,
     "start_time": "2022-10-11T06:54:31.802816",
     "status": "completed"
    },
    "tags": []
   },
   "outputs": [
    {
     "data": {
      "text/html": [
       "<div>\n",
       "<style scoped>\n",
       "    .dataframe tbody tr th:only-of-type {\n",
       "        vertical-align: middle;\n",
       "    }\n",
       "\n",
       "    .dataframe tbody tr th {\n",
       "        vertical-align: top;\n",
       "    }\n",
       "\n",
       "    .dataframe thead th {\n",
       "        text-align: right;\n",
       "    }\n",
       "</style>\n",
       "<table border=\"1\" class=\"dataframe\">\n",
       "  <thead>\n",
       "    <tr style=\"text-align: right;\">\n",
       "      <th></th>\n",
       "      <th>True values</th>\n",
       "      <th>Predicted values</th>\n",
       "    </tr>\n",
       "  </thead>\n",
       "  <tbody>\n",
       "    <tr>\n",
       "      <th>13099</th>\n",
       "      <td>0</td>\n",
       "      <td>0</td>\n",
       "    </tr>\n",
       "    <tr>\n",
       "      <th>32607</th>\n",
       "      <td>0</td>\n",
       "      <td>0</td>\n",
       "    </tr>\n",
       "    <tr>\n",
       "      <th>69261</th>\n",
       "      <td>1</td>\n",
       "      <td>1</td>\n",
       "    </tr>\n",
       "    <tr>\n",
       "      <th>59548</th>\n",
       "      <td>1</td>\n",
       "      <td>1</td>\n",
       "    </tr>\n",
       "    <tr>\n",
       "      <th>21659</th>\n",
       "      <td>0</td>\n",
       "      <td>0</td>\n",
       "    </tr>\n",
       "    <tr>\n",
       "      <th>...</th>\n",
       "      <td>...</td>\n",
       "      <td>...</td>\n",
       "    </tr>\n",
       "    <tr>\n",
       "      <th>6631</th>\n",
       "      <td>0</td>\n",
       "      <td>0</td>\n",
       "    </tr>\n",
       "    <tr>\n",
       "      <th>33315</th>\n",
       "      <td>0</td>\n",
       "      <td>0</td>\n",
       "    </tr>\n",
       "    <tr>\n",
       "      <th>32555</th>\n",
       "      <td>0</td>\n",
       "      <td>0</td>\n",
       "    </tr>\n",
       "    <tr>\n",
       "      <th>1138</th>\n",
       "      <td>0</td>\n",
       "      <td>0</td>\n",
       "    </tr>\n",
       "    <tr>\n",
       "      <th>24112</th>\n",
       "      <td>0</td>\n",
       "      <td>1</td>\n",
       "    </tr>\n",
       "  </tbody>\n",
       "</table>\n",
       "<p>14039 rows × 2 columns</p>\n",
       "</div>"
      ],
      "text/plain": [
       "       True values  Predicted values\n",
       "13099            0                 0\n",
       "32607            0                 0\n",
       "69261            1                 1\n",
       "59548            1                 1\n",
       "21659            0                 0\n",
       "...            ...               ...\n",
       "6631             0                 0\n",
       "33315            0                 0\n",
       "32555            0                 0\n",
       "1138             0                 0\n",
       "24112            0                 1\n",
       "\n",
       "[14039 rows x 2 columns]"
      ]
     },
     "execution_count": 45,
     "metadata": {},
     "output_type": "execute_result"
    }
   ],
   "source": [
    "# Creating a new dataframe with true and predicted values\n",
    "pred_df = pd.DataFrame()\n",
    "pred_df['True values'] = Y_test\n",
    "pred_df['Predicted values'] = y_pred\n",
    "pred_df"
   ]
  },
  {
   "cell_type": "code",
   "execution_count": 46,
   "id": "6c61f955",
   "metadata": {
    "execution": {
     "iopub.execute_input": "2022-10-11T06:54:31.884348Z",
     "iopub.status.busy": "2022-10-11T06:54:31.883140Z",
     "iopub.status.idle": "2022-10-11T06:54:31.892135Z",
     "shell.execute_reply": "2022-10-11T06:54:31.890642Z"
    },
    "papermill": {
     "duration": 0.033095,
     "end_time": "2022-10-11T06:54:31.894770",
     "exception": false,
     "start_time": "2022-10-11T06:54:31.861675",
     "status": "completed"
    },
    "tags": []
   },
   "outputs": [
    {
     "name": "stdout",
     "output_type": "stream",
     "text": [
      "Mean Squared Error : 0.14189044803760953\n",
      "Root Mean Squared Error : 0.37668348522016404\n"
     ]
    }
   ],
   "source": [
    "#check MSE & RMSE \n",
    "mse =mean_squared_error(Y_test, y_pred)\n",
    "print('Mean Squared Error : '+ str(mse))\n",
    "rmse = math.sqrt(mean_squared_error(Y_test, y_pred))\n",
    "print('Root Mean Squared Error : '+ str(rmse))"
   ]
  },
  {
   "cell_type": "code",
   "execution_count": 47,
   "id": "71ee6f0d",
   "metadata": {
    "execution": {
     "iopub.execute_input": "2022-10-11T06:54:31.937775Z",
     "iopub.status.busy": "2022-10-11T06:54:31.937046Z",
     "iopub.status.idle": "2022-10-11T06:54:32.182821Z",
     "shell.execute_reply": "2022-10-11T06:54:32.181654Z"
    },
    "papermill": {
     "duration": 0.270488,
     "end_time": "2022-10-11T06:54:32.185301",
     "exception": false,
     "start_time": "2022-10-11T06:54:31.914813",
     "status": "completed"
    },
    "tags": []
   },
   "outputs": [
    {
     "name": "stdout",
     "output_type": "stream",
     "text": [
      "              precision    recall  f1-score   support\n",
      "\n",
      "           0       0.81      0.94      0.87      7012\n",
      "           1       0.93      0.78      0.85      7027\n",
      "\n",
      "    accuracy                           0.86     14039\n",
      "   macro avg       0.87      0.86      0.86     14039\n",
      "weighted avg       0.87      0.86      0.86     14039\n",
      "\n"
     ]
    },
    {
     "data": {
      "image/png": "[encoded data removed]",
      "text/plain": [
       "<Figure size 432x288 with 2 Axes>"
      ]
     },
     "metadata": {
      "needs_background": "light"
     },
     "output_type": "display_data"
    }
   ],
   "source": [
    "matrix = classification_report(Y_test,y_pred )\n",
    "print(matrix)\n",
    "\n",
    "# calculating and plotting the confusion matrix\n",
    "cm1 = confusion_matrix(Y_test,y_pred)\n",
    "plot_confusion_matrix(conf_mat=cm1,show_absolute=True,\n",
    "                                show_normed=True,\n",
    "                                colorbar=True)\n",
    "plt.show()"
   ]
  },
  {
   "cell_type": "code",
   "execution_count": null,
   "id": "62b00c12",
   "metadata": {
    "papermill": {
     "duration": 0.020233,
     "end_time": "2022-10-11T06:54:32.226380",
     "exception": false,
     "start_time": "2022-10-11T06:54:32.206147",
     "status": "completed"
    },
    "tags": []
   },
   "outputs": [],
   "source": []
  },
  {
   "cell_type": "code",
   "execution_count": null,
   "id": "107d8909",
   "metadata": {
    "papermill": {
     "duration": 0.020033,
     "end_time": "2022-10-11T06:54:32.266891",
     "exception": false,
     "start_time": "2022-10-11T06:54:32.246858",
     "status": "completed"
    },
    "tags": []
   },
   "outputs": [],
   "source": []
  }
 ],
 "metadata": {
  "kernelspec": {
   "display_name": "Python 3",
   "language": "python",
   "name": "python3"
  },
  "language_info": {
   "codemirror_mode": {
    "name": "ipython",
    "version": 3
   },
   "file_extension": ".py",
   "mimetype": "text/x-python",
   "name": "python",
   "nbconvert_exporter": "python",
   "pygments_lexer": "ipython3",
   "version": "3.7.12"
  },
  "papermill": {
   "default_parameters": {},
   "duration": 283.608663,
   "end_time": "2022-10-11T06:54:33.310967",
   "environment_variables": {},
   "exception": null,
   "input_path": "__notebook__.ipynb",
   "output_path": "__notebook__.ipynb",
   "parameters": {},
   "start_time": "2022-10-11T06:49:49.702304",
   "version": "2.3.4"
  }
 },
 "nbformat": 4,
 "nbformat_minor": 5
}
